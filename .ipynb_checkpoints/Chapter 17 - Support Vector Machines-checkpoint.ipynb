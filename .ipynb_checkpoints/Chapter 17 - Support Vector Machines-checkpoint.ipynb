{
 "cells": [
  {
   "cell_type": "markdown",
   "metadata": {},
   "source": [
    "## Chapter 17\n",
    "---\n",
    "# Support Vector Machines\n",
    "Formally, a hyperplane is an n-1 subspace in an n-dimensional space.\n",
    "\n",
    "Support vector machine classify data by finding the hyperplane that maximizes the margin between the classes in the training data. \n",
    "\n",
    "## 17.1 Training a Linear Classifier"
   ]
  },
  {
   "cell_type": "code",
   "execution_count": 6,
   "metadata": {
    "collapsed": false
   },
   "outputs": [],
   "source": [
    "from sklearn.svm import LinearSVC\n",
    "from sklearn import datasets\n",
    "from sklearn.preprocessing import StandardScaler\n",
    "import numpy as np\n",
    "\n",
    "iris = datasets.load_iris()\n",
    "features = iris.data[:100, :2]\n",
    "target = iris.target[:100]\n",
    "\n",
    "scaler = StandardScaler()\n",
    "features_standardized = scaler.fit_transform(features)\n",
    "\n",
    "svc = LinearSVC(C=1.0)\n",
    "\n",
    "model = svc.fit(features_standardized, target)"
   ]
  },
  {
   "cell_type": "markdown",
   "metadata": {},
   "source": [
    "### Discussion\n",
    "scikit-learn's `LinearSVC` implements a simple SVC. To get an intuition behind what an SVC is doing, let us plot out the data and hyperplane. While SVCs work welll in high dimensions, in our solution we only loaded two features and took a subset of observations so that the data contains only two classes. This will let us visualize the model. Recall that SVC attempts to find the hyperplane--a line when we only have two dimensions--with the maximum margin between the classes. In the following code, we plot the two classes on a two-dimensional space, then draw the hyperplane."
   ]
  },
  {
   "cell_type": "code",
   "execution_count": 7,
   "metadata": {
    "collapsed": false
   },
   "outputs": [
    {
     "data": {
      "image/png": "[encoded data removed]",
      "text/plain": [
       "<Figure size 432x288 with 1 Axes>"
      ]
     },
     "metadata": {},
     "output_type": "display_data"
    },
    {
     "data": {
      "text/plain": [
       "((-2.75, 2.75, -3.543971732575235, 3.98520933763276), None)"
      ]
     },
     "execution_count": 7,
     "metadata": {},
     "output_type": "execute_result"
    }
   ],
   "source": [
    "import matplotlib.pyplot as plt\n",
    "\n",
    "color = [\"black\" if c == 0 else \"lightgrey\" for c in target]\n",
    "plt.scatter(features_standardized[:,0], features_standardized[:,1], c=color)\n",
    "\n",
    "w = svc.coef_[0]\n",
    "a = -w[0] / w[1]\n",
    "xx = np.linspace(-2.5, 2.5)\n",
    "yy = a * xx - (svc.intercept_[0]) / w[1]\n",
    "\n",
    "plt.plot(xx, yy)\n",
    "plt.axis(\"off\"), plt.show()"
   ]
  },
  {
   "cell_type": "markdown",
   "metadata": {},
   "source": [
    "## 17.2 Handling Linearly Inseparable Classes Using Kernels"
   ]
  },
  {
   "cell_type": "code",
   "execution_count": 8,
   "metadata": {
    "collapsed": true
   },
   "outputs": [],
   "source": [
    "from sklearn.svm import SVC\n",
    "from sklearn import datasets\n",
    "from sklearn.preprocessing import StandardScaler\n",
    "import numpy as np\n",
    "\n",
    "np.random.seed(0)\n",
    "\n",
    "features = np.random.randn(200, 2)\n",
    "\n",
    "target_xor = np.logical_xor(features[:, 0] > 0, features[:, 1] > 0)\n",
    "target = np.where(target_xor, 0, 1)\n",
    "\n",
    "svc = SVC(kernel=\"rbf\", random_state=0, gamma=1, C=1)\n",
    "\n",
    "model = svc.fit(features, target)"
   ]
  },
  {
   "cell_type": "markdown",
   "metadata": {},
   "source": [
    "### Discussion\n",
    "For reasons best learned elsewhere, a support vector classifier can be represented as:\n",
    "$$\n",
    "f(x) = \\beta_0 + \\sum_{i\\in s}^{p}{\\alpha_i K(x_i, x_{i'})}\n",
    "$$\n",
    "where \\beta is the bias, S is the set of all support vector observations, \\alpha are the model parameters to be learned, and $(x_i, x_{i'})$ are pairs of two support vector observations, $x_i$ and $x_{i;}$. Don't worry if you don't understand kernel functions. For our purposed, just realized that K\n",
    "\n",
    "1. Determines the type of hyperplane used to separate our classes and\n",
    "2. we create different hyperplanes by using different kernels.\n",
    "\n",
    "For example if we wanted the basic linear hyperplane used to separate our classes like the one we used in Recipe 17.1, we can use the linear kernel:\n",
    "\n",
    "$$\n",
    "K(x_i, x_{i'}) = \\sum_{j=1}^{p}{x_{ij}x_{i'j}}\n",
    "$$\n",
    "where p is the number of features. However, if we wanted a nonlinear decision boundary, we swap the lienar kernel with a polynomial kernel:\n",
    "$$\n",
    "K(x_i, x_{i'}) = (1 + \\sum_{j=1}^{p}{x_{ij}x_{i'j}})^2\n",
    "$$\n",
    "where d is the degree of the polynomial kernel function. Alternatively, we can use oen of the most common kernels in support vector machines, teh radial basis funciton kernel:\n",
    "\n",
    "$$\n",
    "K(x_i, x_{i'}) = e^{(-\\gamma \\sum_{j=1}^{p}{(x_{ij}x_{i'j})^2})}\n",
    "$$\n",
    "where \\gamma is a hyperparameter and must be greater than zero. The main point of the preceding explanation is that if we have lienarly inseparable data we can swap out a lienar kernel with an alternative kernel to create a nonlinear hyperplane decision boundary.\n",
    "\n",
    "We can understand the intuition behidn kernels by visualizing a simple example. This function, based on one by Sebastian Raschka, plots the observations and decision boundary hyperlane of a two-dimensional space. You do not need to understand how this function works; I have included it here so you can experiment on your own:"
   ]
  },
  {
   "cell_type": "code",
   "execution_count": 15,
   "metadata": {
    "collapsed": false
   },
   "outputs": [
    {
     "data": {
      "image/png": "[encoded data removed]",
      "text/plain": [
       "<Figure size 432x288 with 1 Axes>"
      ]
     },
     "metadata": {},
     "output_type": "display_data"
    },
    {
     "data": {
      "text/plain": [
       "((-3.0, 2.9800000000000058, -3.0, 2.9800000000000058), None)"
      ]
     },
     "execution_count": 15,
     "metadata": {},
     "output_type": "execute_result"
    }
   ],
   "source": [
    "from matplotlib.colors import ListedColormap\n",
    "import matplotlib.pyplot as plt\n",
    "\n",
    "def plot_decision_regions(X, y, classifier):\n",
    "    cmap = ListedColormap((\"red\", \"blue\"))\n",
    "    xx1, xx2 = np.meshgrid(np.arange(-3, 3, 0.02), np.arange(-3, 3, 0.02))\n",
    "    Z = classifier.predict(np.array([xx1.ravel(), xx2.ravel()]).T)\n",
    "    Z = Z.reshape(xx1.shape)\n",
    "    plt.contourf(xx1, xx2, Z, alpha=0.1, cmap=cmap)\n",
    "    \n",
    "    for idx, cl in enumerate(np.unique(y)):\n",
    "        plt.scatter(x=X[y == cl, 0], y=X[y == cl, 1], alpha=0.8, c=cmap(idx), marker=\"+\", label=cl)\n",
    "        \n",
    "svc_linear = SVC(kernel=\"linear\", random_state=0, C=1)\n",
    "\n",
    "svc_linear.fit(features, target)\n",
    "plot_decision_regions(features, target, classifier=svc_linear)\n",
    "plt.axis(\"off\"), plt.show()"
   ]
  },
  {
   "cell_type": "code",
   "execution_count": 17,
   "metadata": {
    "collapsed": false
   },
   "outputs": [
    {
     "data": {
      "image/png": "[encoded data removed]",
      "text/plain": [
       "<Figure size 432x288 with 1 Axes>"
      ]
     },
     "metadata": {},
     "output_type": "display_data"
    },
    {
     "data": {
      "text/plain": [
       "((-3.0, 2.9800000000000058, -3.0, 2.9800000000000058), None)"
      ]
     },
     "execution_count": 17,
     "metadata": {},
     "output_type": "execute_result"
    }
   ],
   "source": [
    "svc = SVC(kernel=\"rbf\", random_state=0, gamma=1, C=1)\n",
    "model = svc.fit(features, target)\n",
    "plot_decision_regions(features, target, classifier=svc)\n",
    "plt.axis(\"off\"), plt.show()"
   ]
  },
  {
   "cell_type": "markdown",
   "metadata": {},
   "source": [
    "## 17.3 Creating Predicted Probabilities"
   ]
  },
  {
   "cell_type": "code",
   "execution_count": 20,
   "metadata": {
    "collapsed": false
   },
   "outputs": [
    {
     "data": {
      "text/plain": [
       "array([[0.00588822, 0.96874828, 0.0253635 ]])"
      ]
     },
     "execution_count": 20,
     "metadata": {},
     "output_type": "execute_result"
    }
   ],
   "source": [
    "from sklearn.svm import SVC\n",
    "from sklearn import datasets\n",
    "from sklearn.preprocessing import StandardScaler\n",
    "import numpy as np\n",
    "\n",
    "iris = datasets.load_iris()\n",
    "features = iris.data\n",
    "target = iris.target\n",
    "\n",
    "scaler = StandardScaler()\n",
    "features_standardized = scaler.fit_transform(features)\n",
    "\n",
    "svc = SVC(kernel=\"linear\", probability=True, random_state=0)\n",
    "\n",
    "model = svc.fit(features_standardized, target)\n",
    "\n",
    "new_observation = [[.4, .4, .4, .4]]\n",
    "model.predict_proba(new_observation)"
   ]
  },
  {
   "cell_type": "markdown",
   "metadata": {},
   "source": [
    "### Discussion\n",
    "Many of the supervised learning algorithms we have covered used probability estimates to predict classes. For example, in k-nearest neighbor, an observation's k neighbor's classes were treated as votes to create a probability that an observation was of that class. THen the class with the highest probability was predicted.\n",
    "\n",
    "SVC's used of a hyperplane to create decision regions does not naturally output a probability estimate that an observation is a member of acertain class. However, we can in fact output calibrated class probabilities with a few aveats. In an SVC with two classes, Platt scaling can be used, wherein first the SVC is trained, and then a separate cross-validated logistic regression is trained to map the SVC outputs into probabilities:\n",
    "$$\n",
    "P(y=1 | x) = \\frac{1}{1+e^{(A * f(X) + B)}}\n",
    "$$\n",
    "where A and B are parameter vectors and f is the ith observation's signed distanced from the hyperplane. When we have more than two classes, an extension of Platt scaling is used.\n",
    "\n",
    "\n",
    "## 17.4 Identifying Support Vectors"
   ]
  },
  {
   "cell_type": "code",
   "execution_count": 21,
   "metadata": {
    "collapsed": false
   },
   "outputs": [
    {
     "data": {
      "text/plain": [
       "array([[-0.5810659 ,  0.43490123, -0.80621461, -0.50581312],\n",
       "       [-1.52079513, -1.67626978, -1.08374115, -0.8607697 ],\n",
       "       [-0.89430898, -1.46515268,  0.30389157,  0.38157832],\n",
       "       [-0.5810659 , -1.25403558,  0.09574666,  0.55905661]])"
      ]
     },
     "execution_count": 21,
     "metadata": {},
     "output_type": "execute_result"
    }
   ],
   "source": [
    "from sklearn.svm import SVC\n",
    "from sklearn import datasets\n",
    "from sklearn.preprocessing import StandardScaler\n",
    "import numpy as np\n",
    "\n",
    "iris = datasets.load_iris()\n",
    "features = iris.data[:100,:]\n",
    "target = iris.target[:100]\n",
    "\n",
    "scaler = StandardScaler()\n",
    "features_standardized = scaler.fit_transform(features)\n",
    "\n",
    "svc = SVC(kernel=\"linear\", random_state=0)\n",
    "\n",
    "model = svc.fit(features_standardized, target)\n",
    "model.support_vectors_"
   ]
  },
  {
   "cell_type": "markdown",
   "metadata": {},
   "source": [
    "## 17.5 Handling Imbalanced Classes"
   ]
  },
  {
   "cell_type": "code",
   "execution_count": 23,
   "metadata": {
    "collapsed": false
   },
   "outputs": [],
   "source": [
    "from sklearn.svm import SVC\n",
    "from sklearn import datasets\n",
    "from sklearn.preprocessing import StandardScaler\n",
    "import numpy as np\n",
    "\n",
    "iris = datasets.load_iris()\n",
    "features = iris.data[:100,:]\n",
    "target = iris.target[:100]\n",
    "\n",
    "features = features[40:, :]\n",
    "target = target[40:]\n",
    "\n",
    "target = np.where((target == 0), 0, 1)\n",
    "\n",
    "scaler = StandardScaler()\n",
    "features_standardized = scaler.fit_transform(features)\n",
    "\n",
    "svc = SVC(kernel=\"linear\", class_weight=\"balanced\", C=1.0, random_state=0)\n",
    "\n",
    "model = svc.fit(features_standardized, target)"
   ]
  }
 ],
 "metadata": {
  "kernelspec": {
   "display_name": "Python [conda env:machine_learning_cookbook]",
   "language": "python",
   "name": "conda-env-machine_learning_cookbook-py"
  },
  "language_info": {
   "codemirror_mode": {
    "name": "ipython",
    "version": 3
   },
   "file_extension": ".py",
   "mimetype": "text/x-python",
   "name": "python",
   "nbconvert_exporter": "python",
   "pygments_lexer": "ipython3",
   "version": "3.6.6"
  }
 },
 "nbformat": 4,
 "nbformat_minor": 2
}
