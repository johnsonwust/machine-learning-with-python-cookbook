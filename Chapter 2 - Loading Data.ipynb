{
 "cells": [
  {
   "cell_type": "markdown",
   "metadata": {},
   "source": [
    "### Chapter 2\n",
    "## Loading Data\n",
    "\n",
    "### 2.0 Introduction\n",
    "The first step in any machine learning endeavor is to get the raw data into our system. The raw data might be a logfile, dataset file, or database. Furthermore, often we will want to retrieve data from multiple sources. The recipies in this chapter look at methods of loading data from a variety of sources, including CSV files and SQL databases. We also cover methods of generating simulated data with desirable properties for experimentation. Finally, while there are many ways to load data in the Python ecosystem, we will focus on using the pandas library's extensive set of methods for loading external data, and using scikit-learn--an open source machine learning library in Python--for generating simulated data.\n",
    "\n",
    "### 2.1 Loading a Sample Dataset\n",
    "#### Problem\n",
    "You want to load a prexisting sample dataset\n",
    "\n",
    "#### Solution\n",
    "scikit-learn comes with a number of popular datasets for you to use:"
   ]
  },
  {
   "cell_type": "code",
   "execution_count": 1,
   "metadata": {},
   "outputs": [
    {
     "data": {
      "text/plain": [
       "array([ 0.,  0.,  5., 13.,  9.,  1.,  0.,  0.,  0.,  0., 13., 15., 10.,\n",
       "       15.,  5.,  0.,  0.,  3., 15.,  2.,  0., 11.,  8.,  0.,  0.,  4.,\n",
       "       12.,  0.,  0.,  8.,  8.,  0.,  0.,  5.,  8.,  0.,  0.,  9.,  8.,\n",
       "        0.,  0.,  4., 11.,  0.,  1., 12.,  7.,  0.,  0.,  2., 14.,  5.,\n",
       "       10., 12.,  0.,  0.,  0.,  0.,  6., 13., 10.,  0.,  0.,  0.])"
      ]
     },
     "execution_count": 1,
     "metadata": {},
     "output_type": "execute_result"
    }
   ],
   "source": [
    "# load scikit-learn's datasets\n",
    "from sklearn import datasets\n",
    "\n",
    "# load digits dataset\n",
    "digits = datasets.load_digits()\n",
    "\n",
    "# create features matrix\n",
    "features = digits.data\n",
    "\n",
    "# create target vector\n",
    "target = digits.target\n",
    "\n",
    "# view first observation\n",
    "features[0]"
   ]
  },
  {
   "cell_type": "markdown",
   "metadata": {},
   "source": [
    "#### Discussion\n",
    "Often we do not want to go through the work of loading, transforming and cleaning a real-world dataset before we can explore some machine learning algorithm or method. Luckily, scikit-learn comes with some common datasets we can quickly load. These datasets are often called \"toy\" datasets because they are far smaller and cleaner than a dataset we would see in the real world. Some popular sample datasets in scikit-learn are:\n",
    "\n",
    "`load_boston`\n",
    "* Contains 503 observations on Boston housing prices. It is a good dataset for exploring regression algorithms.\n",
    "    \n",
    "`load_iris`\n",
    "* Contains 150 observations on the measurements of Iris flowers. It is a good dataset for exploring classification algorithms\n",
    "\n",
    "`load_digits`\n",
    "* Cotnains 1,797 observations from images of handwritten digits. It is a good dataset for teaching image classification\n",
    "\n",
    "#### See Also\n",
    "* scikit-learn toy datasets (http://scikit-learn.org/stable/datasets/index.html#toy-datasets)\n",
    "* The Digit Dataset (http://scikit-learn.org/stable/auto_examples/datasets/plot_digits_last_image.html)\n",
    "\n",
    "### 2.2 Creating a Simulated Dataset\n",
    "#### Problem\n",
    "You need to generate a dataset of simulated data\n",
    "\n",
    "#### Solution\n",
    "scikit-learn offers any methods for creating simulated data. Of those, three methods are particularly useful\n",
    "\n",
    "When we want a dataset designed to be used with linear regression, `make_regression` is a good choice:"
   ]
  },
  {
   "cell_type": "code",
   "execution_count": 6,
   "metadata": {},
   "outputs": [
    {
     "name": "stdout",
     "output_type": "stream",
     "text": [
      "Feature Matrix \n",
      " [[ 1.29322588 -0.61736206 -0.11044703]\n",
      " [-2.793085    0.36633201  1.93752881]\n",
      " [ 0.80186103 -0.18656977  0.0465673 ]]\n",
      "Target Vector \n",
      " [-10.37865986  25.5124503   19.67705609]\n"
     ]
    }
   ],
   "source": [
    "# load library\n",
    "from sklearn.datasets import make_regression\n",
    "\n",
    "# generate features matrix, target vector, and the true coefficients\n",
    "features, target, coefficients = make_regression(n_samples = 100,\n",
    "                                                 n_features = 3,\n",
    "                                                 n_informative = 3,\n",
    "                                                 n_targets = 1,\n",
    "                                                 noise = 0.0,\n",
    "                                                 coef = True,\n",
    "                                                 random_state = 1)\n",
    "\n",
    "# view feature matrix and target vector\n",
    "print(\"Feature Matrix \\n {}\".format(features[:3]))\n",
    "print(\"Target Vector \\n {}\".format(target[:3]))"
   ]
  },
  {
   "cell_type": "markdown",
   "metadata": {},
   "source": [
    "If we are interested in creating a simulated dataset for classification, we can use `make_classification`:"
   ]
  },
  {
   "cell_type": "code",
   "execution_count": 8,
   "metadata": {},
   "outputs": [
    {
     "name": "stdout",
     "output_type": "stream",
     "text": [
      "Feature matrix\n",
      " [[ 1.06354768 -1.42632219  1.02163151]\n",
      " [ 0.23156977  1.49535261  0.33251578]\n",
      " [ 0.15972951  0.83533515 -0.40869554]]\n",
      "Target vector\n",
      " [1 0 0]\n"
     ]
    }
   ],
   "source": [
    "# load library\n",
    "from sklearn.datasets import make_classification\n",
    "\n",
    "# generate features matrix and target vector\n",
    "\n",
    "features, target = make_classification(n_samples = 100,\n",
    "                                       n_features = 3,\n",
    "                                       n_informative = 3,\n",
    "                                       n_redundant = 0,\n",
    "                                       n_classes = 2,\n",
    "                                       weights = [.25, .75],\n",
    "                                       random_state = 1)\n",
    "\n",
    "# view feature matrix and target vector\n",
    "print(\"Feature matrix\\n {}\".format(features[:3]))\n",
    "print(\"Target vector\\n {}\".format(target[:3]))"
   ]
  },
  {
   "cell_type": "markdown",
   "metadata": {},
   "source": [
    "Finally, if we want a dataset designed to work well with clustering techniques, scikit-learn offers make_blobs:"
   ]
  },
  {
   "cell_type": "code",
   "execution_count": 2,
   "metadata": {},
   "outputs": [
    {
     "name": "stdout",
     "output_type": "stream",
     "text": [
      "Feature Matrix\n",
      " [[ -1.22685609   3.25572052]\n",
      " [ -9.57463218  -4.38310652]\n",
      " [-10.71976941  -4.20558148]]\n",
      "Target Vector\n",
      " [0 1 1]\n"
     ]
    }
   ],
   "source": [
    "# load library\n",
    "from sklearn.datasets import make_blobs\n",
    "\n",
    "# generate feature_matrix and target vector\n",
    "features, target = make_blobs(n_samples = 100,\n",
    "                              n_features = 2,\n",
    "                              centers = 3,\n",
    "                              cluster_std = 0.5,\n",
    "                              shuffle = True,\n",
    "                              random_state = 1)\n",
    "\n",
    "# view feature matrix and target vector\n",
    "print(\"Feature Matrix\\n {}\".format(features[:3]))\n",
    "print(\"Target Vector\\n {}\".format(target[:3]))"
   ]
  },
  {
   "cell_type": "markdown",
   "metadata": {},
   "source": [
    "#### Discussion\n",
    "As might be apparent from the solutions, make regression returns a feature matrix of flaot values and a target vector of float values, while make_classification and make_blobs return a feature matrix of float values and a target vector of integers representing membership in a class.\n",
    "\n",
    "scikit-learn's simulated datasets offer extensive options to control the type of data generated.\n",
    "\n",
    "In `make_regression` and `make_classification`, `n_informative` determines the number of features that are used to generate the target vector. If n`_informative` is less than the totla number of features (`n_features`), the resulting dataset will have redundant features that cna be identified through feature selection techniques\n",
    "\n",
    "In addition, `make_classification` contains a `weights` parameter that allows us to simulate datasets with imbalanced classes. For example, `weights = [.25, .75]` would return a dataset with 25% of observations belonging to one class and 75% to the other\n",
    "\n",
    "For `make_blobs`, the centers parameter determines the number of clusters generated. Using the `matplotlib` visualization library we can visualize the clusters generated by `make_blobs`:"
   ]
  },
  {
   "cell_type": "code",
   "execution_count": 3,
   "metadata": {},
   "outputs": [
    {
     "data": {
      "image/png": "[encoded data removed]",
      "text/plain": [
       "<Figure size 432x288 with 1 Axes>"
      ]
     },
     "metadata": {},
     "output_type": "display_data"
    }
   ],
   "source": [
    "# load library\n",
    "import matplotlib.pyplot as plt\n",
    "\n",
    "# view scatterplot\n",
    "plt.scatter(features[:, 0], features[:, 1], c=target)\n",
    "plt.show()"
   ]
  },
  {
   "cell_type": "markdown",
   "metadata": {},
   "source": [
    "#### See Also\n",
    "* `make_regression` documentation (http://scikit-learn.org/stable/modules/generated/sklearn.datasets.make_regression.html)\n",
    "* `make_classification` documentation (http://scikit-learn.org/stable/modules/generated/sklearn.datasets.make_classification.html)\n",
    "* `make_blobs` documetnation (http://scikit-learn.org/stable/modules/generated/sklearn.datasets.make_blobs.html)"
   ]
  },
  {
   "cell_type": "markdown",
   "metadata": {},
   "source": [
    "### 2.3 Loading a CSV File\n",
    "#### Problem\n",
    "You need to import a comma-separated values (CSV) file.\n",
    "\n",
    "#### Solution\n",
    "Use the `pandas` library's `read_csv` to load a local or hosted CSV file:"
   ]
  },
  {
   "cell_type": "code",
   "execution_count": 1,
   "metadata": {},
   "outputs": [
    {
     "data": {
      "text/html": [
       "<div>\n",
       "<style scoped>\n",
       "    .dataframe tbody tr th:only-of-type {\n",
       "        vertical-align: middle;\n",
       "    }\n",
       "\n",
       "    .dataframe tbody tr th {\n",
       "        vertical-align: top;\n",
       "    }\n",
       "\n",
       "    .dataframe thead th {\n",
       "        text-align: right;\n",
       "    }\n",
       "</style>\n",
       "<table border=\"1\" class=\"dataframe\">\n",
       "  <thead>\n",
       "    <tr style=\"text-align: right;\">\n",
       "      <th></th>\n",
       "      <th>cdatetime</th>\n",
       "      <th>address</th>\n",
       "      <th>district</th>\n",
       "      <th>beat</th>\n",
       "      <th>grid</th>\n",
       "      <th>crimedescr</th>\n",
       "      <th>ucr_ncic_code</th>\n",
       "      <th>latitude</th>\n",
       "      <th>longitude</th>\n",
       "    </tr>\n",
       "  </thead>\n",
       "  <tbody>\n",
       "    <tr>\n",
       "      <th>0</th>\n",
       "      <td>1/1/06 0:00</td>\n",
       "      <td>3108 OCCIDENTAL DR</td>\n",
       "      <td>3</td>\n",
       "      <td>3C</td>\n",
       "      <td>1115</td>\n",
       "      <td>10851(A)VC TAKE VEH W/O OWNER</td>\n",
       "      <td>2404</td>\n",
       "      <td>38.550420</td>\n",
       "      <td>-121.391416</td>\n",
       "    </tr>\n",
       "    <tr>\n",
       "      <th>1</th>\n",
       "      <td>1/1/06 0:00</td>\n",
       "      <td>2082 EXPEDITION WAY</td>\n",
       "      <td>5</td>\n",
       "      <td>5A</td>\n",
       "      <td>1512</td>\n",
       "      <td>459 PC  BURGLARY RESIDENCE</td>\n",
       "      <td>2204</td>\n",
       "      <td>38.473501</td>\n",
       "      <td>-121.490186</td>\n",
       "    </tr>\n",
       "  </tbody>\n",
       "</table>\n",
       "</div>"
      ],
      "text/plain": [
       "     cdatetime              address  district        beat  grid  \\\n",
       "0  1/1/06 0:00   3108 OCCIDENTAL DR         3  3C          1115   \n",
       "1  1/1/06 0:00  2082 EXPEDITION WAY         5  5A          1512   \n",
       "\n",
       "                      crimedescr  ucr_ncic_code   latitude   longitude  \n",
       "0  10851(A)VC TAKE VEH W/O OWNER           2404  38.550420 -121.391416  \n",
       "1     459 PC  BURGLARY RESIDENCE           2204  38.473501 -121.490186  "
      ]
     },
     "execution_count": 1,
     "metadata": {},
     "output_type": "execute_result"
    }
   ],
   "source": [
    "# load library\n",
    "import pandas as pd\n",
    "\n",
    "# create url\n",
    "url = \"http://samplecsvs.s3.amazonaws.com/SacramentocrimeJanuary2006.csv\"\n",
    "\n",
    "# load data\n",
    "df = pd.read_csv(url)\n",
    "\n",
    "df.head(2)"
   ]
  },
  {
   "cell_type": "markdown",
   "metadata": {},
   "source": [
    "### 2.4 Loading an Excel File\n",
    "#### Problem\n",
    "You need to import an Excel spreadsheet\n",
    "\n",
    "#### Solution\n",
    "Use the `pandas` library's `read_excel` to load an Excel spreadsheet:"
   ]
  },
  {
   "cell_type": "code",
   "execution_count": 5,
   "metadata": {},
   "outputs": [
    {
     "data": {
      "text/html": [
       "<div>\n",
       "<style scoped>\n",
       "    .dataframe tbody tr th:only-of-type {\n",
       "        vertical-align: middle;\n",
       "    }\n",
       "\n",
       "    .dataframe tbody tr th {\n",
       "        vertical-align: top;\n",
       "    }\n",
       "\n",
       "    .dataframe thead th {\n",
       "        text-align: right;\n",
       "    }\n",
       "</style>\n",
       "<table border=\"1\" class=\"dataframe\">\n",
       "  <thead>\n",
       "    <tr style=\"text-align: right;\">\n",
       "      <th></th>\n",
       "      <th>0</th>\n",
       "      <th>1</th>\n",
       "      <th>2</th>\n",
       "      <th>3</th>\n",
       "      <th>4</th>\n",
       "      <th>5</th>\n",
       "      <th>6</th>\n",
       "      <th>7</th>\n",
       "      <th>8</th>\n",
       "      <th>9</th>\n",
       "    </tr>\n",
       "  </thead>\n",
       "  <tbody>\n",
       "    <tr>\n",
       "      <th>0</th>\n",
       "      <td>1</td>\n",
       "      <td>Eldon Base for stackable storage shelf, platinum</td>\n",
       "      <td>Muhammed MacIntyre</td>\n",
       "      <td>3</td>\n",
       "      <td>-213.25</td>\n",
       "      <td>38.94</td>\n",
       "      <td>35.00</td>\n",
       "      <td>Nunavut</td>\n",
       "      <td>Storage &amp; Organization</td>\n",
       "      <td>0.80</td>\n",
       "    </tr>\n",
       "    <tr>\n",
       "      <th>1</th>\n",
       "      <td>2</td>\n",
       "      <td>1.7 Cubic Foot Compact \"Cube\" Office Refrigera...</td>\n",
       "      <td>Barry French</td>\n",
       "      <td>293</td>\n",
       "      <td>457.81</td>\n",
       "      <td>208.16</td>\n",
       "      <td>68.02</td>\n",
       "      <td>Nunavut</td>\n",
       "      <td>Appliances</td>\n",
       "      <td>0.58</td>\n",
       "    </tr>\n",
       "  </tbody>\n",
       "</table>\n",
       "</div>"
      ],
      "text/plain": [
       "   0                                                  1                   2  \\\n",
       "0  1   Eldon Base for stackable storage shelf, platinum  Muhammed MacIntyre   \n",
       "1  2  1.7 Cubic Foot Compact \"Cube\" Office Refrigera...        Barry French   \n",
       "\n",
       "     3       4       5      6        7                       8     9  \n",
       "0    3 -213.25   38.94  35.00  Nunavut  Storage & Organization  0.80  \n",
       "1  293  457.81  208.16  68.02  Nunavut              Appliances  0.58  "
      ]
     },
     "execution_count": 5,
     "metadata": {},
     "output_type": "execute_result"
    }
   ],
   "source": [
    "# load library\n",
    "import pandas as pd\n",
    "\n",
    "# create url\n",
    "url = \"https://www.sample-videos.com/xls/Sample-Spreadsheet-10-rows.xls\"\n",
    "\n",
    "# load data\n",
    "df = pd.read_excel(url, sheet_name=0, header=None)\n",
    "\n",
    "# view the first two rows\n",
    "df.head(2)"
   ]
  },
  {
   "cell_type": "markdown",
   "metadata": {},
   "source": [
    "### 2.5 Loading a JSON File\n",
    "#### Problem\n",
    "You need to load a JSON file for data preprocessing\n",
    "\n",
    "#### Solution\n",
    "The pandas library provides `read_json` to convert a JSON file a pandas object:"
   ]
  },
  {
   "cell_type": "code",
   "execution_count": 7,
   "metadata": {},
   "outputs": [
    {
     "data": {
      "text/html": [
       "<div>\n",
       "<style scoped>\n",
       "    .dataframe tbody tr th:only-of-type {\n",
       "        vertical-align: middle;\n",
       "    }\n",
       "\n",
       "    .dataframe tbody tr th {\n",
       "        vertical-align: top;\n",
       "    }\n",
       "\n",
       "    .dataframe thead th {\n",
       "        text-align: right;\n",
       "    }\n",
       "</style>\n",
       "<table border=\"1\" class=\"dataframe\">\n",
       "  <thead>\n",
       "    <tr style=\"text-align: right;\">\n",
       "      <th></th>\n",
       "      <th>archive_url</th>\n",
       "      <th>archived</th>\n",
       "      <th>assignees_url</th>\n",
       "      <th>blobs_url</th>\n",
       "      <th>branches_url</th>\n",
       "      <th>clone_url</th>\n",
       "      <th>collaborators_url</th>\n",
       "      <th>comments_url</th>\n",
       "      <th>commits_url</th>\n",
       "      <th>compare_url</th>\n",
       "      <th>...</th>\n",
       "      <th>subscribers_url</th>\n",
       "      <th>subscription_url</th>\n",
       "      <th>svn_url</th>\n",
       "      <th>tags_url</th>\n",
       "      <th>teams_url</th>\n",
       "      <th>trees_url</th>\n",
       "      <th>updated_at</th>\n",
       "      <th>url</th>\n",
       "      <th>watchers</th>\n",
       "      <th>watchers_count</th>\n",
       "    </tr>\n",
       "  </thead>\n",
       "  <tbody>\n",
       "    <tr>\n",
       "      <th>0</th>\n",
       "      <td>https://api.github.com/repos/f00-/anscombes-qu...</td>\n",
       "      <td>False</td>\n",
       "      <td>https://api.github.com/repos/f00-/anscombes-qu...</td>\n",
       "      <td>https://api.github.com/repos/f00-/anscombes-qu...</td>\n",
       "      <td>https://api.github.com/repos/f00-/anscombes-qu...</td>\n",
       "      <td>https://github.com/f00-/anscombes-quartet.git</td>\n",
       "      <td>https://api.github.com/repos/f00-/anscombes-qu...</td>\n",
       "      <td>https://api.github.com/repos/f00-/anscombes-qu...</td>\n",
       "      <td>https://api.github.com/repos/f00-/anscombes-qu...</td>\n",
       "      <td>https://api.github.com/repos/f00-/anscombes-qu...</td>\n",
       "      <td>...</td>\n",
       "      <td>https://api.github.com/repos/f00-/anscombes-qu...</td>\n",
       "      <td>https://api.github.com/repos/f00-/anscombes-qu...</td>\n",
       "      <td>https://github.com/f00-/anscombes-quartet</td>\n",
       "      <td>https://api.github.com/repos/f00-/anscombes-qu...</td>\n",
       "      <td>https://api.github.com/repos/f00-/anscombes-qu...</td>\n",
       "      <td>https://api.github.com/repos/f00-/anscombes-qu...</td>\n",
       "      <td>2018-08-08 04:37:53</td>\n",
       "      <td>https://api.github.com/repos/f00-/anscombes-qu...</td>\n",
       "      <td>0</td>\n",
       "      <td>0</td>\n",
       "    </tr>\n",
       "    <tr>\n",
       "      <th>1</th>\n",
       "      <td>https://api.github.com/repos/f00-/autograd-tut...</td>\n",
       "      <td>False</td>\n",
       "      <td>https://api.github.com/repos/f00-/autograd-tut...</td>\n",
       "      <td>https://api.github.com/repos/f00-/autograd-tut...</td>\n",
       "      <td>https://api.github.com/repos/f00-/autograd-tut...</td>\n",
       "      <td>https://github.com/f00-/autograd-tutorial.git</td>\n",
       "      <td>https://api.github.com/repos/f00-/autograd-tut...</td>\n",
       "      <td>https://api.github.com/repos/f00-/autograd-tut...</td>\n",
       "      <td>https://api.github.com/repos/f00-/autograd-tut...</td>\n",
       "      <td>https://api.github.com/repos/f00-/autograd-tut...</td>\n",
       "      <td>...</td>\n",
       "      <td>https://api.github.com/repos/f00-/autograd-tut...</td>\n",
       "      <td>https://api.github.com/repos/f00-/autograd-tut...</td>\n",
       "      <td>https://github.com/f00-/autograd-tutorial</td>\n",
       "      <td>https://api.github.com/repos/f00-/autograd-tut...</td>\n",
       "      <td>https://api.github.com/repos/f00-/autograd-tut...</td>\n",
       "      <td>https://api.github.com/repos/f00-/autograd-tut...</td>\n",
       "      <td>2018-06-06 03:17:19</td>\n",
       "      <td>https://api.github.com/repos/f00-/autograd-tut...</td>\n",
       "      <td>0</td>\n",
       "      <td>0</td>\n",
       "    </tr>\n",
       "  </tbody>\n",
       "</table>\n",
       "<p>2 rows × 72 columns</p>\n",
       "</div>"
      ],
      "text/plain": [
       "                                         archive_url  archived  \\\n",
       "0  https://api.github.com/repos/f00-/anscombes-qu...     False   \n",
       "1  https://api.github.com/repos/f00-/autograd-tut...     False   \n",
       "\n",
       "                                       assignees_url  \\\n",
       "0  https://api.github.com/repos/f00-/anscombes-qu...   \n",
       "1  https://api.github.com/repos/f00-/autograd-tut...   \n",
       "\n",
       "                                           blobs_url  \\\n",
       "0  https://api.github.com/repos/f00-/anscombes-qu...   \n",
       "1  https://api.github.com/repos/f00-/autograd-tut...   \n",
       "\n",
       "                                        branches_url  \\\n",
       "0  https://api.github.com/repos/f00-/anscombes-qu...   \n",
       "1  https://api.github.com/repos/f00-/autograd-tut...   \n",
       "\n",
       "                                       clone_url  \\\n",
       "0  https://github.com/f00-/anscombes-quartet.git   \n",
       "1  https://github.com/f00-/autograd-tutorial.git   \n",
       "\n",
       "                                   collaborators_url  \\\n",
       "0  https://api.github.com/repos/f00-/anscombes-qu...   \n",
       "1  https://api.github.com/repos/f00-/autograd-tut...   \n",
       "\n",
       "                                        comments_url  \\\n",
       "0  https://api.github.com/repos/f00-/anscombes-qu...   \n",
       "1  https://api.github.com/repos/f00-/autograd-tut...   \n",
       "\n",
       "                                         commits_url  \\\n",
       "0  https://api.github.com/repos/f00-/anscombes-qu...   \n",
       "1  https://api.github.com/repos/f00-/autograd-tut...   \n",
       "\n",
       "                                         compare_url       ...        \\\n",
       "0  https://api.github.com/repos/f00-/anscombes-qu...       ...         \n",
       "1  https://api.github.com/repos/f00-/autograd-tut...       ...         \n",
       "\n",
       "                                     subscribers_url  \\\n",
       "0  https://api.github.com/repos/f00-/anscombes-qu...   \n",
       "1  https://api.github.com/repos/f00-/autograd-tut...   \n",
       "\n",
       "                                    subscription_url  \\\n",
       "0  https://api.github.com/repos/f00-/anscombes-qu...   \n",
       "1  https://api.github.com/repos/f00-/autograd-tut...   \n",
       "\n",
       "                                     svn_url  \\\n",
       "0  https://github.com/f00-/anscombes-quartet   \n",
       "1  https://github.com/f00-/autograd-tutorial   \n",
       "\n",
       "                                            tags_url  \\\n",
       "0  https://api.github.com/repos/f00-/anscombes-qu...   \n",
       "1  https://api.github.com/repos/f00-/autograd-tut...   \n",
       "\n",
       "                                           teams_url  \\\n",
       "0  https://api.github.com/repos/f00-/anscombes-qu...   \n",
       "1  https://api.github.com/repos/f00-/autograd-tut...   \n",
       "\n",
       "                                           trees_url          updated_at  \\\n",
       "0  https://api.github.com/repos/f00-/anscombes-qu... 2018-08-08 04:37:53   \n",
       "1  https://api.github.com/repos/f00-/autograd-tut... 2018-06-06 03:17:19   \n",
       "\n",
       "                                                 url  watchers  watchers_count  \n",
       "0  https://api.github.com/repos/f00-/anscombes-qu...         0               0  \n",
       "1  https://api.github.com/repos/f00-/autograd-tut...         0               0  \n",
       "\n",
       "[2 rows x 72 columns]"
      ]
     },
     "execution_count": 7,
     "metadata": {},
     "output_type": "execute_result"
    }
   ],
   "source": [
    "# load library\n",
    "import pandas as pd\n",
    "\n",
    "# create url\n",
    "url = \"https://api.github.com/users/f00-/repos\"\n",
    "\n",
    "# load data\n",
    "df = pd.read_json(url, orient=\"columns\")\n",
    "\n",
    "# view first two rows\n",
    "df.head(2)"
   ]
  },
  {
   "cell_type": "markdown",
   "metadata": {},
   "source": [
    "### 2.6 Querying a SQL Database\n",
    "#### Problem\n",
    "You need to load data from a databaseu sing structured query language (SQL)\n",
    "\n",
    "#### Solution\n",
    "`pandas`' `read_sql_query` allows us to make a SQL query to a database and load it:"
   ]
  },
  {
   "cell_type": "code",
   "execution_count": 9,
   "metadata": {},
   "outputs": [
    {
     "name": "stdout",
     "output_type": "stream",
     "text": [
      "['albums', 'artists', 'customers', 'employees', 'genres', 'invoice_items', 'invoices', 'media_types', 'playlist_track', 'playlists', 'sqlite_sequence', 'sqlite_stat1', 'tracks']\n"
     ]
    },
    {
     "data": {
      "text/html": [
       "<div>\n",
       "<style scoped>\n",
       "    .dataframe tbody tr th:only-of-type {\n",
       "        vertical-align: middle;\n",
       "    }\n",
       "\n",
       "    .dataframe tbody tr th {\n",
       "        vertical-align: top;\n",
       "    }\n",
       "\n",
       "    .dataframe thead th {\n",
       "        text-align: right;\n",
       "    }\n",
       "</style>\n",
       "<table border=\"1\" class=\"dataframe\">\n",
       "  <thead>\n",
       "    <tr style=\"text-align: right;\">\n",
       "      <th></th>\n",
       "      <th>AlbumId</th>\n",
       "      <th>Title</th>\n",
       "      <th>ArtistId</th>\n",
       "    </tr>\n",
       "  </thead>\n",
       "  <tbody>\n",
       "    <tr>\n",
       "      <th>0</th>\n",
       "      <td>1</td>\n",
       "      <td>For Those About To Rock We Salute You</td>\n",
       "      <td>1</td>\n",
       "    </tr>\n",
       "    <tr>\n",
       "      <th>1</th>\n",
       "      <td>2</td>\n",
       "      <td>Balls to the Wall</td>\n",
       "      <td>2</td>\n",
       "    </tr>\n",
       "    <tr>\n",
       "      <th>2</th>\n",
       "      <td>3</td>\n",
       "      <td>Restless and Wild</td>\n",
       "      <td>2</td>\n",
       "    </tr>\n",
       "    <tr>\n",
       "      <th>3</th>\n",
       "      <td>4</td>\n",
       "      <td>Let There Be Rock</td>\n",
       "      <td>1</td>\n",
       "    </tr>\n",
       "    <tr>\n",
       "      <th>4</th>\n",
       "      <td>5</td>\n",
       "      <td>Big Ones</td>\n",
       "      <td>3</td>\n",
       "    </tr>\n",
       "  </tbody>\n",
       "</table>\n",
       "</div>"
      ],
      "text/plain": [
       "   AlbumId                                  Title  ArtistId\n",
       "0        1  For Those About To Rock We Salute You         1\n",
       "1        2                      Balls to the Wall         2\n",
       "2        3                      Restless and Wild         2\n",
       "3        4                      Let There Be Rock         1\n",
       "4        5                               Big Ones         3"
      ]
     },
     "execution_count": 9,
     "metadata": {},
     "output_type": "execute_result"
    }
   ],
   "source": [
    "# load libraries\n",
    "import pandas as pd\n",
    "from sqlalchemy import create_engine\n",
    "\n",
    "# create a connection to the database\n",
    "db_connection = create_engine('sqlite:///sample.db')\n",
    "\n",
    "# see table names\n",
    "print(db_connection.table_names())\n",
    "\n",
    "# load data\n",
    "df = pd.read_sql_query('SELECT * FROM albums', db_connection)\n",
    "\n",
    "df.head()"
   ]
  },
  {
   "cell_type": "code",
   "execution_count": null,
   "metadata": {},
   "outputs": [],
   "source": []
  }
 ],
 "metadata": {
  "kernelspec": {
   "display_name": "Python [conda env:machine_learning_cookbook]",
   "language": "python",
   "name": "conda-env-machine_learning_cookbook-py"
  },
  "language_info": {
   "codemirror_mode": {
    "name": "ipython",
    "version": 3
   },
   "file_extension": ".py",
   "mimetype": "text/x-python",
   "name": "python",
   "nbconvert_exporter": "python",
   "pygments_lexer": "ipython3",
   "version": "3.6.6"
  }
 },
 "nbformat": 4,
 "nbformat_minor": 2
}
