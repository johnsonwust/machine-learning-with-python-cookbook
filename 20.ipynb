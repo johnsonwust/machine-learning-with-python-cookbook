{
 "cells": [
  {
   "cell_type": "markdown",
   "metadata": {
    "id": "gI8h45bo2C2c"
   },
   "source": [
    "# 第20章 神经网络"
   ]
  },
  {
   "cell_type": "markdown",
   "metadata": {
    "id": "_3yR6qUW2C2d"
   },
   "source": [
    "您可以在Jupyter Notebook查看器(nbviewer.jupyter.org)中查看此笔记本或在Google Colab(colab.research.google.com)中运行它。\n",
    "\n",
    "<table class=\"tfo-notebook-buttons\" align=\"left\">\n",
    "  <td>\n",
    "    <a target=\"_blank\" href=\"https://nbviewer.org/github/rickiepark/machine-learning-with-python-cookbook/blob/master/20.ipynb\"><img src=\"https://jupyter.org/assets/share.png\" width=\"60\" />在Jupyter Notebook查看器中查看</a>\n",
    "  </td>\n",
    "  <td>\n",
    "    <a target=\"_blank\" href=\"https://colab.research.google.com/github/rickiepark/machine-learning-with-python-cookbook/blob/master/20.ipynb\"><img src=\"https://www.tensorflow.org/images/colab_logo_32px.png\" />在Google Colab中执行</a>\n",
    "  </td>\n",
    "</table>"
   ]
  },
  {
   "cell_type": "markdown",
   "metadata": {
    "id": "rpntUAiQ2C2e"
   },
   "source": [
    "** 注意: 如果您想要使用不包含在TensorFlow的tf.keras API中的多后端Keras，那么请将from tensorflow.keras更改为from keras。"
   ]
  },
  {
   "cell_type": "markdown",
   "metadata": {
    "id": "Fk6OzV3C2C2e"
   },
   "source": [
    "## 20.1 为神经网络预处理数据"
   ]
  },
  {
   "cell_type": "code",
   "execution_count": 56,
   "metadata": {
    "colab": {
     "base_uri": "https://localhost:8080/"
    },
    "id": "nsL4qcKB2C2e",
    "outputId": "5faffb8f-1820-4665-b297-b04bc0d58938"
   },
   "outputs": [
    {
     "data": {
      "text/plain": [
       "array([[-1.12541308,  1.96429418],\n",
       "       [-1.15329466, -0.50068741],\n",
       "       [ 0.29529406, -0.22809346],\n",
       "       [ 0.57385917, -0.42335076],\n",
       "       [ 1.40955451, -0.81216255]])"
      ]
     },
     "execution_count": 56,
     "metadata": {},
     "output_type": "execute_result"
    }
   ],
   "source": [
    "# 加载库\n",
    "from sklearn import preprocessing\n",
    "import numpy as np\n",
    "\n",
    "# 创建特征\n",
    "features = np.array([[-100.1, 3240.1],\n",
    "                     [-200.2, -234.1],\n",
    "                     [5000.5, 150.1],\n",
    "                     [6000.6, -125.1],\n",
    "                     [9000.9, -673.1]])\n",
    "\n",
    "# 创建scaler\n",
    "scaler = preprocessing.StandardScaler()\n",
    "\n",
    "# 转换特征\n",
    "features_standardized = scaler.fit_transform(features)\n",
    "\n",
    "# 展示特征\n",
    "features_standardized"
   ]
  },
  {
   "cell_type": "code",
   "execution_count": 57,
   "metadata": {
    "colab": {
     "base_uri": "https://localhost:8080/"
    },
    "id": "rIAH6mar2C2f",
    "outputId": "f119d90c-eccc-43c1-a1d3-f6ff37915e83"
   },
   "outputs": [
    {
     "name": "stdout",
     "output_type": "stream",
     "text": [
      "Mean: 0.0\n",
      "Standard deviation: 0.9999999999999999\n"
     ]
    }
   ],
   "source": [
    "# 打印均值和标准差\n",
    "print(\"Mean:\", round(features_standardized[:,0].mean()))\n",
    "print(\"Standard deviation:\", features_standardized[:,0].std())"
   ]
  },
  {
   "cell_type": "markdown",
   "metadata": {
    "id": "sr35MEc92C2g"
   },
   "source": [
    "## 20.2 设计一个神经网络"
   ]
  },
  {
   "cell_type": "code",
   "execution_count": 58,
   "metadata": {
    "id": "nMIExGaQ2C2g"
   },
   "outputs": [],
   "source": [
    "# 加载库\n",
    "from tensorflow.keras import models\n",
    "from tensorflow.keras import layers\n",
    "\n",
    "# 启动神经网络\n",
    "network = models.Sequential()\n",
    "\n",
    "# 添加使用ReLU激活函数的全连接层\n",
    "network.add(layers.Dense(units=16, activation=\"relu\", input_shape=(10,)))\n",
    "\n",
    "# 添加使用ReLU激活函数的全连接层\n",
    "network.add(layers.Dense(units=16, activation=\"relu\"))\n",
    "\n",
    "# 添加使用sigmoid激活函数的全连接层\n",
    "network.add(layers.Dense(units=1, activation=\"sigmoid\"))\n",
    "\n",
    "# 编译神经网络\n",
    "network.compile(loss=\"binary_crossentropy\", # 크로스 엔트로피\n",
    "                optimizer=\"rmsprop\", # 옵티마이저\n",
    "                metrics=[\"accuracy\"]) # 성능 지표"
   ]
  },
  {
   "cell_type": "markdown",
   "metadata": {
    "id": "rNr01qcN2C2h"
   },
   "source": [
    "### 打印出模型的概要信息"
   ]
  },
  {
   "cell_type": "code",
   "execution_count": 59,
   "metadata": {
    "colab": {
     "base_uri": "https://localhost:8080/"
    },
    "id": "S4lZ1Jjo2C2h",
    "outputId": "176e9507-1109-4a56-cea5-9ea616f4bb08"
   },
   "outputs": [
    {
     "name": "stdout",
     "output_type": "stream",
     "text": [
      "Model: \"sequential_10\"\n",
      "_________________________________________________________________\n",
      "Layer (type)                 Output Shape              Param #   \n",
      "=================================================================\n",
      "dense_46 (Dense)             (None, 16)                176       \n",
      "_________________________________________________________________\n",
      "dense_47 (Dense)             (None, 16)                272       \n",
      "_________________________________________________________________\n",
      "dense_48 (Dense)             (None, 1)                 17        \n",
      "=================================================================\n",
      "Total params: 465\n",
      "Trainable params: 465\n",
      "Non-trainable params: 0\n",
      "_________________________________________________________________\n"
     ]
    }
   ],
   "source": [
    "network.summary()"
   ]
  },
  {
   "cell_type": "code",
   "execution_count": 60,
   "metadata": {
    "id": "JsPahwMa2C2i"
   },
   "outputs": [],
   "source": [
    "# 连接三个全连接层，从输入到输出\n",
    "x = layers.Input(shape=(10,))\n",
    "h1 = layers.Dense(units=16, activation=\"relu\")(x)\n",
    "h2 = layers.Dense(units=16, activation=\"relu\")(h1)\n",
    "y = layers.Dense(units=1, activation=\"sigmoid\")(h2)\n",
    "\n",
    "# 创建神经网络模型。\n",
    "network = models.Model(x, y)\n",
    "\n",
    "# 完成神经网络的模型配置\n",
    "network.compile(loss=\"binary_crossentropy\", # 交叉熵\n",
    "                optimizer=\"rmsprop\", # 优化器\n",
    "                metrics=[\"accuracy\"]) # 性能指标"
   ]
  },
  {
   "cell_type": "code",
   "execution_count": 61,
   "metadata": {
    "colab": {
     "base_uri": "https://localhost:8080/"
    },
    "id": "oDrUauc62C2i",
    "outputId": "1904965a-6d1e-4148-82b2-ccfcaf1858bd"
   },
   "outputs": [
    {
     "name": "stdout",
     "output_type": "stream",
     "text": [
      "Model: \"model_4\"\n",
      "_________________________________________________________________\n",
      "Layer (type)                 Output Shape              Param #   \n",
      "=================================================================\n",
      "input_5 (InputLayer)         [(None, 10)]              0         \n",
      "_________________________________________________________________\n",
      "dense_49 (Dense)             (None, 16)                176       \n",
      "_________________________________________________________________\n",
      "dense_50 (Dense)             (None, 16)                272       \n",
      "_________________________________________________________________\n",
      "dense_51 (Dense)             (None, 1)                 17        \n",
      "=================================================================\n",
      "Total params: 465\n",
      "Trainable params: 465\n",
      "Non-trainable params: 0\n",
      "_________________________________________________________________\n"
     ]
    }
   ],
   "source": [
    "network.summary()"
   ]
  },
  {
   "cell_type": "code",
   "execution_count": 62,
   "metadata": {
    "id": "IO8H9Qc12C2i"
   },
   "outputs": [],
   "source": [
    "dense = layers.Dense(units=16, activation=\"relu\")\n",
    "h1 = dense(x)"
   ]
  },
  {
   "cell_type": "markdown",
   "metadata": {
    "id": "SORprZHW2C2j"
   },
   "source": [
    "## 20.3 训练一个二元分类器"
   ]
  },
  {
   "cell_type": "code",
   "execution_count": 73,
   "metadata": {},
   "outputs": [],
   "source": [
    "import os\n",
    "\n",
    "# 当前文件的绝对路径\n",
    "current_dir = os.getcwd()\n",
    "\n",
    "# imdb.npz文件在当前目录下的路径\n",
    "local_imdb_path = os.path.join(current_dir, 'imdb.npz')\n",
    "\n",
    "# 从影评数据中加载数据和目标向量\n",
    "(data_train, target_train), (data_test, target_test) = imdb.load_data(\n",
    "    path=local_imdb_path,\n",
    "    num_words=number_of_features)"
   ]
  },
  {
   "cell_type": "code",
   "execution_count": 65,
   "metadata": {
    "colab": {
     "base_uri": "https://localhost:8080/"
    },
    "id": "TmFSfjuS2C2j",
    "outputId": "65460a7b-4d69-4790-e3c1-ff56cf9d1dde"
   },
   "outputs": [
    {
     "name": "stdout",
     "output_type": "stream",
     "text": [
      "Train on 25000 samples, validate on 25000 samples\n",
      "Epoch 1/3\n",
      "25000/25000 [==============================] - 1s 36us/sample - loss: 0.4198 - accuracy: 0.8127 - val_loss: 0.3377 - val_accuracy: 0.8568\n",
      "Epoch 2/3\n",
      "25000/25000 [==============================] - 1s 29us/sample - loss: 0.3263 - accuracy: 0.8640 - val_loss: 0.3263 - val_accuracy: 0.8613\n",
      "Epoch 3/3\n",
      "25000/25000 [==============================] - 1s 30us/sample - loss: 0.3128 - accuracy: 0.8695 - val_loss: 0.3256 - val_accuracy: 0.8611\n"
     ]
    }
   ],
   "source": [
    "# 加载库\n",
    "import numpy as np\n",
    "from tensorflow.keras.datasets import imdb\n",
    "from tensorflow.keras.preprocessing.text import Tokenizer\n",
    "from tensorflow.keras import models\n",
    "from tensorflow.keras import layers\n",
    "\n",
    "# 设定随机种子\n",
    "np.random.seed(0)\n",
    "\n",
    "# 设定想要的特征数量\n",
    "number_of_features = 1000\n",
    "\n",
    "# 将硬盘数据转化为one-hot编码过的特征向量\n",
    "tokenizer = Tokenizer(num_words=number_of_features)\n",
    "features_train = tokenizer.sequences_to_matrix(data_train, mode=\"binary\")\n",
    "features_test = tokenizer.sequences_to_matrix(data_test, mode=\"binary\")\n",
    "\n",
    "# 创建神经网络对象\n",
    "network = models.Sequential()\n",
    "\n",
    "# 添加使用ReLU激活函数的全连接层\n",
    "network.add(layers.Dense(units=16, activation=\"relu\", input_shape=(\n",
    "    number_of_features,)))\n",
    "\n",
    "# 再添加一个使用ReLU激活函数的全连接层\n",
    "network.add(layers.Dense(units=16, activation=\"relu\"))\n",
    "\n",
    "# 添加使用Sigmoid激活函数的全连接层\n",
    "network.add(layers.Dense(units=1, activation=\"sigmoid\"))\n",
    "\n",
    "# 完成神经网络模型的设置\n",
    "network.compile(loss=\"binary_crossentropy\", # 交叉熵\n",
    "                optimizer=\"rmsprop\", # 优化器\n",
    "                metrics=[\"accuracy\"]) # 性能指标\n",
    "\n",
    "# 训练神经网络\n",
    "history = network.fit(features_train, # 特征\n",
    "                      target_train, # 目标向量\n",
    "                      epochs=3, # 迭代次数\n",
    "                      verbose=1, # 打印迭代过程\n",
    "                      batch_size=100, # 每个批次的样本数\n",
    "                      validation_data=(features_test, target_test)) # 测试数据"
   ]
  },
  {
   "cell_type": "code",
   "execution_count": 66,
   "metadata": {
    "colab": {
     "base_uri": "https://localhost:8080/"
    },
    "id": "IkoUmvDR2C2k",
    "outputId": "5b46b6fd-c096-467f-d5bf-962f9307f484"
   },
   "outputs": [
    {
     "data": {
      "text/plain": [
       "(25000, 1000)"
      ]
     },
     "execution_count": 66,
     "metadata": {},
     "output_type": "execute_result"
    }
   ],
   "source": [
    "# 查看特征矩阵的形状\n",
    "features_train.shape"
   ]
  },
  {
   "cell_type": "markdown",
   "metadata": {
    "id": "2Hdwdw2e2C2k"
   },
   "source": [
    "### 打印出模型的概要信息"
   ]
  },
  {
   "cell_type": "code",
   "execution_count": 10,
   "metadata": {
    "colab": {
     "base_uri": "https://localhost:8080/"
    },
    "id": "6NHUMPAf2C2k",
    "outputId": "37a795ed-5ffe-401c-ddfd-6b73f499df2e"
   },
   "outputs": [
    {
     "name": "stdout",
     "output_type": "stream",
     "text": [
      "Epoch 1/3\n",
      "250/250 [==============================] - 2s 5ms/step - loss: 0.2987 - val_loss: 0.3241\n",
      "Epoch 2/3\n",
      "250/250 [==============================] - 1s 3ms/step - loss: 0.2852 - val_loss: 0.3293\n",
      "Epoch 3/3\n",
      "250/250 [==============================] - 1s 3ms/step - loss: 0.2736 - val_loss: 0.3516\n"
     ]
    }
   ],
   "source": [
    "# 完成神经网络模型的设置\n",
    "network.compile(loss=\"binary_crossentropy\", # 交叉熵\n",
    "                optimizer=\"rmsprop\") # 优化器\n",
    "\n",
    "# 训练神经网络.\n",
    "history = network.fit(features_train, # 特征\n",
    "                      target_train, # 目标向量\n",
    "                      epochs=3, # 迭代次数\n",
    "                      verbose=1, # 打印迭代过程\n",
    "                      batch_size=100, # 每个批次的样本数\n",
    "                      validation_data=(features_test, target_test)) # 测试数据"
   ]
  },
  {
   "cell_type": "code",
   "execution_count": 47,
   "metadata": {
    "colab": {
     "base_uri": "https://localhost:8080/"
    },
    "id": "C3Fr2-xP2C2k",
    "outputId": "e66eece7-0baa-4583-cbb0-b00b815f4971"
   },
   "outputs": [
    {
     "name": "stdout",
     "output_type": "stream",
     "text": [
      "25000/25000 [==============================] - 1s 21us/sample - loss: 0.3261 - accuracy: 0.8613\n"
     ]
    },
    {
     "data": {
      "text/plain": [
       "[0.3261475212478638, 0.86132]"
      ]
     },
     "execution_count": 47,
     "metadata": {},
     "output_type": "execute_result"
    }
   ],
   "source": [
    "network.evaluate(features_test, target_test)"
   ]
  },
  {
   "cell_type": "markdown",
   "metadata": {
    "id": "gutdzvme2C2k"
   },
   "source": [
    "## 20.4 训练一个多元分类器"
   ]
  },
  {
   "cell_type": "code",
   "execution_count": 67,
   "metadata": {
    "colab": {
     "base_uri": "https://localhost:8080/"
    },
    "id": "8PtF4XBC2C2k",
    "outputId": "1d35dd69-7217-4b0c-a21a-40647db083a9"
   },
   "outputs": [],
   "source": [
    "# 加载库\n",
    "import os\n",
    "import numpy as np\n",
    "from tensorflow.keras.datasets import reuters\n",
    "# 如果您使用的是多后端Keras，请使用以下代码\n",
    "# from keras.utils.np_utils import to_categorical\n",
    "from tensorflow.keras.utils import to_categorical\n",
    "from tensorflow.keras.preprocessing.text import Tokenizer\n",
    "from tensorflow.keras import models\n",
    "from tensorflow.keras import layers\n",
    "\n",
    "# 设定随机种子\n",
    "np.random.seed(0)\n",
    "\n",
    "# 设定我们想要的特征数量\n",
    "number_of_features = 5000\n",
    "\n",
    "# 当前文件的绝对路径\n",
    "current_dir = os.getcwd()\n",
    "\n",
    "# reuters.npz文件在当前目录下的路径\n",
    "local_reuters_path = os.path.join(current_dir, 'reuters.npz')\n",
    "\n",
    "# 从路透社新闻数据中加载数据和目标向量\n",
    "(data_train, target_vector_train), (data_test, target_vector_test) = reuters.load_data(\n",
    "    path=local_reuters_path,\n",
    "    num_words=number_of_features)\n",
    "\n",
    "# 将特征数据转换为one-hot编码的特征矩阵。\n",
    "tokenizer = Tokenizer(num_words=number_of_features)\n",
    "features_train = tokenizer.sequences_to_matrix(data_train, mode=\"binary\")\n",
    "features_test = tokenizer.sequences_to_matrix(data_test, mode=\"binary\")\n",
    "\n",
    "# 将目标向量转换为one-hot编码的目标矩阵。\n",
    "target_train = to_categorical(target_vector_train)\n",
    "target_test = to_categorical(target_vector_test)\n",
    "\n",
    "# 创建神经网络模型。\n",
    "network = models.Sequential()\n",
    "\n",
    "# 添加使用ReLU激活函数的全连接层。\n",
    "network.add(layers.Dense(units=100,\n",
    "                         activation=\"relu\",\n",
    "                         input_shape=(number_of_features,)))\n",
    "\n",
    "# 再添加一个使用ReLU激活函数的全连接层。\n",
    "network.add(layers.Dense(units=100, activation=\"relu\"))\n",
    "\n",
    "# 添加使用Softmax激活函数的全连接层。\n",
    "network.add(layers.Dense(units=46, activation=\"softmax\"))\n",
    "\n",
    "# 完成神经网络模型的设置。\n",
    "network.compile(loss=\"categorical_crossentropy\", # 交叉熵\n",
    "                optimizer=\"rmsprop\", # 优化器\n",
    "                metrics=[\"accuracy\"]) # 性能指标"
   ]
  },
  {
   "cell_type": "code",
   "execution_count": 68,
   "metadata": {},
   "outputs": [],
   "source": [
    "# 训练神经网络。\n",
    "history = network.fit(features_train, # 特征\n",
    "                      target_train, # 目标\n",
    "                      epochs=3, # 3个时代\n",
    "                      verbose=0, # 无输出\n",
    "                      batch_size=100, # 每个批次的样本数\n",
    "                      validation_data=(features_test, target_test)) # 测试数据"
   ]
  },
  {
   "cell_type": "code",
   "execution_count": 70,
   "metadata": {
    "colab": {
     "base_uri": "https://localhost:8080/"
    },
    "id": "62AZBuKw2C2l",
    "outputId": "7f50956f-6756-4e5b-a80d-85f8c8823896"
   },
   "outputs": [
    {
     "data": {
      "text/plain": [
       "array([[0., 0., 0., ..., 0., 0., 0.],\n",
       "       [0., 0., 0., ..., 0., 0., 0.],\n",
       "       [0., 0., 0., ..., 0., 0., 0.],\n",
       "       ...,\n",
       "       [0., 0., 0., ..., 0., 0., 0.],\n",
       "       [0., 0., 0., ..., 0., 0., 0.],\n",
       "       [0., 0., 0., ..., 0., 0., 0.]], dtype=float32)"
      ]
     },
     "execution_count": 70,
     "metadata": {},
     "output_type": "execute_result"
    }
   ],
   "source": [
    "# 查看目标矩阵\n",
    "target_train"
   ]
  },
  {
   "cell_type": "markdown",
   "metadata": {
    "id": "4VbZPMAJ2C2l"
   },
   "source": [
    "## 20.5 训练一个回归模型"
   ]
  },
  {
   "cell_type": "code",
   "execution_count": 71,
   "metadata": {
    "id": "Dd-wvwTx2C2m"
   },
   "outputs": [],
   "source": [
    "# 导入库。\n",
    "import numpy as np\n",
    "from tensorflow.keras.preprocessing.text import Tokenizer\n",
    "from tensorflow.keras import models\n",
    "from tensorflow.keras import layers\n",
    "from sklearn.datasets import make_regression\n",
    "from sklearn.model_selection import train_test_split\n",
    "from sklearn import preprocessing\n",
    "\n",
    "# 设置随机种子。\n",
    "np.random.seed(0)\n",
    "\n",
    "# 创建特征矩阵和目标向量。\n",
    "features, target = make_regression(n_samples = 10000,\n",
    "                                   n_features = 3,\n",
    "                                   n_informative = 3,\n",
    "                                   n_targets = 1,\n",
    "                                   noise = 0.0,\n",
    "                                   random_state = 0)\n",
    "\n",
    "# 将数据分为训练集和测试集。\n",
    "features_train, features_test, target_train, target_test = train_test_split(\n",
    "features, target, test_size=0.33, random_state=0)\n",
    "\n",
    "# 创建神经网络模型。\n",
    "network = models.Sequential()\n",
    "\n",
    "# 添加使用ReLU激活函数的全连接层。\n",
    "network.add(layers.Dense(units=32,\n",
    "                         activation=\"relu\",\n",
    "                         input_shape=(features_train.shape[1],)))\n",
    "\n",
    "# 再添加一个使用ReLU激活函数的全连接层。\n",
    "network.add(layers.Dense(units=32, activation=\"relu\"))\n",
    "\n",
    "# 添加一个没有激活函数的全连接层。\n",
    "network.add(layers.Dense(units=1))\n",
    "\n",
    "# 完成神经网络模型的设置。\n",
    "network.compile(loss=\"mse\", # 均方误差\n",
    "                optimizer=\"RMSprop\", # 优化器\n",
    "                metrics=[\"mse\"]) # 性能指标\n",
    "\n",
    "# 训练神经网络。\n",
    "history = network.fit(features_train, # 特征\n",
    "                      target_train, # 目标向量\n",
    "                      epochs=10, # 迭代次数\n",
    "                      verbose=0, # 无输出\n",
    "                      batch_size=100, # 每批样本数量\n",
    "                      validation_data=(features_test, target_test)) # 测试数据"
   ]
  },
  {
   "cell_type": "markdown",
   "metadata": {
    "id": "CFumhUMS2C2m"
   },
   "source": [
    "## 20.6 做出预测"
   ]
  },
  {
   "cell_type": "markdown",
   "metadata": {},
   "source": [
    "### 清理内存\n",
    "##### 如果你连续运行了多个内存密集型任务，请确保在运行新任务前清理不再使用的变量并手动调用垃圾收集。"
   ]
  },
  {
   "cell_type": "code",
   "execution_count": 88,
   "metadata": {},
   "outputs": [
    {
     "data": {
      "text/plain": [
       "0"
      ]
     },
     "execution_count": 88,
     "metadata": {},
     "output_type": "execute_result"
    }
   ],
   "source": [
    "import gc\n",
    "\n",
    "# 删除变量\n",
    "del data_train, target_train, data_test, target_test\n",
    "gc.collect()\n",
    "\n",
    "del features_train, features_test\n",
    "gc.collect()"
   ]
  },
  {
   "cell_type": "code",
   "execution_count": 89,
   "metadata": {},
   "outputs": [],
   "source": [
    "import os\n",
    "\n",
    "# 当前文件的绝对路径\n",
    "current_dir = os.getcwd()\n",
    "\n",
    "# imdb.npz文件在当前目录下的路径\n",
    "local_imdb_path = os.path.join(current_dir, 'imdb.npz')\n",
    "\n",
    "# 从影评数据中加载数据和目标向量\n",
    "(data_train, target_train), (data_test, target_test) = imdb.load_data(\n",
    "    path=local_imdb_path,\n",
    "    num_words=number_of_features)"
   ]
  },
  {
   "cell_type": "code",
   "execution_count": 90,
   "metadata": {
    "id": "w8z9vQrh2C2m"
   },
   "outputs": [
    {
     "name": "stdout",
     "output_type": "stream",
     "text": [
      "Train on 25000 samples, validate on 25000 samples\n",
      "Epoch 1/3\n",
      "25000/25000 [==============================] - 4s 149us/sample - loss: 0.3555 - accuracy: 0.8620 - val_loss: 0.2778 - val_accuracy: 0.8890\n",
      "Epoch 2/3\n",
      "25000/25000 [==============================] - 3s 129us/sample - loss: 0.2090 - accuracy: 0.9209 - val_loss: 0.2926 - val_accuracy: 0.8841\n",
      "Epoch 3/3\n",
      "25000/25000 [==============================] - 3s 129us/sample - loss: 0.1703 - accuracy: 0.9364 - val_loss: 0.3330 - val_accuracy: 0.8733\n"
     ]
    }
   ],
   "source": [
    "# 导入库。\n",
    "import numpy as np\n",
    "from tensorflow.keras.datasets import imdb\n",
    "from tensorflow.keras.preprocessing.text import Tokenizer\n",
    "from tensorflow.keras import models\n",
    "from tensorflow.keras import layers\n",
    "\n",
    "# 设置随机种子。\n",
    "np.random.seed(0)\n",
    "\n",
    "# 指定所需的特征数量。\n",
    "number_of_features = 10000\n",
    "\n",
    "# 将IMDB数据转换为one-hot编码的特征矩阵。\n",
    "tokenizer = Tokenizer(num_words=number_of_features)\n",
    "features_train = tokenizer.sequences_to_matrix(data_train, mode=\"binary\")\n",
    "features_test = tokenizer.sequences_to_matrix(data_test, mode=\"binary\")\n",
    "\n",
    "# 创建神经网络模型。\n",
    "network = models.Sequential()\n",
    "\n",
    "# 添加使用ReLU激活函数的全连接层。\n",
    "network.add(layers.Dense(units=16,\n",
    "                         activation=\"relu\",\n",
    "                         input_shape=(number_of_features,)))\n",
    "\n",
    "# 再添加一个使用ReLU激活函数的全连接层。\n",
    "network.add(layers.Dense(units=16, activation=\"relu\"))\n",
    "\n",
    "# 添加使用Sigmoid激活函数的全连接层。\n",
    "network.add(layers.Dense(units=1, activation=\"sigmoid\"))\n",
    "\n",
    "# 完成神经网络模型的设置。\n",
    "network.compile(loss=\"binary_crossentropy\", # 交叉熵\n",
    "                optimizer=\"rmsprop\", # 优化器\n",
    "                metrics=[\"accuracy\"]) # 性能指标\n",
    "\n",
    "# 训练神经网络。\n",
    "history = network.fit(features_train, # 特征\n",
    "                      target_train, # 目标向量\n",
    "                      epochs=3, # 迭代次数\n",
    "                      verbose=1, # 无输出\n",
    "                      batch_size=100, # 每批样本数量\n",
    "                      validation_data=(features_test, target_test)) # 测试数据"
   ]
  },
  {
   "cell_type": "code",
   "execution_count": 92,
   "metadata": {},
   "outputs": [],
   "source": [
    "# 预测测试集的类别。\n",
    "predicted_target = network.predict(features_test)"
   ]
  },
  {
   "cell_type": "code",
   "execution_count": 93,
   "metadata": {
    "colab": {
     "base_uri": "https://localhost:8080/"
    },
    "id": "ZDoEBHod2C2m",
    "outputId": "683a7c84-ebc5-4aac-c1f3-70f55b0999f8"
   },
   "outputs": [
    {
     "data": {
      "text/plain": [
       "array([0.14596137], dtype=float32)"
      ]
     },
     "execution_count": 93,
     "metadata": {},
     "output_type": "execute_result"
    }
   ],
   "source": [
    "# 检查第一个样本被分类为类别1的概率。\n",
    "predicted_target[0]"
   ]
  },
  {
   "cell_type": "markdown",
   "metadata": {
    "id": "jVFvtgtj2C2n"
   },
   "source": [
    "## 20.7 可视化训练历史"
   ]
  },
  {
   "cell_type": "code",
   "execution_count": 103,
   "metadata": {
    "id": "V3KQzqHu2C2n"
   },
   "outputs": [],
   "source": [
    "# 导入库。\n",
    "import numpy as np\n",
    "from tensorflow.keras.datasets import imdb\n",
    "from tensorflow.keras.preprocessing.text import Tokenizer\n",
    "from tensorflow.keras import models\n",
    "from tensorflow.keras import layers\n",
    "import matplotlib.pyplot as plt"
   ]
  },
  {
   "cell_type": "markdown",
   "metadata": {},
   "source": [
    "### 清理内存\n",
    "##### 如果你连续运行了多个内存密集型任务，请确保在运行新任务前清理不再使用的变量并手动调用垃圾收集。"
   ]
  },
  {
   "cell_type": "code",
   "execution_count": 96,
   "metadata": {},
   "outputs": [
    {
     "data": {
      "text/plain": [
       "0"
      ]
     },
     "execution_count": 96,
     "metadata": {},
     "output_type": "execute_result"
    }
   ],
   "source": [
    "import gc\n",
    "\n",
    "# 删除变量\n",
    "del data_train, target_train, data_test, target_test\n",
    "gc.collect()\n",
    "\n",
    "del features_train, features_test\n",
    "gc.collect()"
   ]
  },
  {
   "cell_type": "code",
   "execution_count": 97,
   "metadata": {},
   "outputs": [],
   "source": [
    "import os\n",
    "\n",
    "# 当前文件的绝对路径\n",
    "current_dir = os.getcwd()\n",
    "\n",
    "# imdb.npz文件在当前目录下的路径\n",
    "local_imdb_path = os.path.join(current_dir, 'imdb.npz')\n",
    "\n",
    "# 从影评数据中加载数据和目标向量\n",
    "(data_train, target_train), (data_test, target_test) = imdb.load_data(\n",
    "    path=local_imdb_path,\n",
    "    num_words=number_of_features)"
   ]
  },
  {
   "cell_type": "code",
   "execution_count": 18,
   "metadata": {
    "colab": {
     "base_uri": "https://localhost:8080/",
     "height": 279
    },
    "id": "dnpPKITJ2C2n",
    "outputId": "855c6893-9003-4acb-fa3c-d578f2290599"
   },
   "outputs": [
    {
     "data": {
      "image/png": "[encoded data removed]",
      "text/plain": [
       "<Figure size 432x288 with 1 Axes>"
      ]
     },
     "metadata": {
      "needs_background": "light"
     },
     "output_type": "display_data"
    }
   ],
   "source": [
    "# 랜덤 시드를 설정합니다.\n",
    "np.random.seed(0)\n",
    "\n",
    "# 필요한 특성 개수를 지정합니다.\n",
    "number_of_features = 10000\n",
    "\n",
    "# 영화 리뷰 데이터에서 훈련 데이터와 타깃 벡터를 로드합니다.\n",
    "(data_train, target_train), (data_test, target_test) = imdb.load_data(\n",
    "    num_words=number_of_features)\n",
    "\n",
    "# 영화영화 리뷰 데이터를 원-핫 인코딩된 특성 행렬로 변환합니다.\n",
    "tokenizer = Tokenizer(num_words=number_of_features)\n",
    "features_train = tokenizer.sequences_to_matrix(data_train, mode=\"binary\")\n",
    "features_test = tokenizer.sequences_to_matrix(data_test, mode=\"binary\")\n",
    "\n",
    "# 신경망 모델을 만듭니다.\n",
    "network = models.Sequential()\n",
    "\n",
    "# 렐루 활성화 함수를 사용한 완전 연결 층을 추가합니다.\n",
    "network.add(layers.Dense(units=16,\n",
    "                         activation=\"relu\",\n",
    "                         input_shape=(number_of_features,)))\n",
    "\n",
    "# 렐루 활성화 함수를 사용한 완전 연결 층을 추가합니다.\n",
    "network.add(layers.Dense(units=16, activation=\"relu\"))\n",
    "\n",
    "# 시그모이드 활성화 함수를 사용한 완전 연결 층을 추가합니다.\n",
    "network.add(layers.Dense(units=1, activation=\"sigmoid\"))\n",
    "\n",
    "# 신경망의 모델 설정을 완료합니다.\n",
    "network.compile(loss=\"binary_crossentropy\", # 크로스 엔트로피\n",
    "                optimizer=\"rmsprop\", # 옵티마이저\n",
    "                metrics=[\"accuracy\"]) # 성능 지표\n",
    "\n",
    "# 신경망을 훈련합니다.\n",
    "history = network.fit(features_train, # 특성\n",
    "                      target_train, # 타깃\n",
    "                      epochs=15, # 에포크 횟수\n",
    "                      verbose=0, # 출력 없음\n",
    "                      batch_size=1000, # 배치의 샘플 개수\n",
    "                      validation_data=(features_test, target_test)) # 테스트 데이터\n",
    "\n",
    "# 훈련 손실과 테스트 손실의 기록을 저장합니다.\n",
    "training_loss = history.history[\"loss\"]\n",
    "test_loss = history.history[\"val_loss\"]\n",
    "\n",
    "# 에포크 횟수를 사용해 카운트 객체를 만듭니다.\n",
    "epoch_count = range(1, len(training_loss) + 1)\n",
    "\n",
    "# 손실 값의 기록을 시각화합니다.\n",
    "plt.plot(epoch_count, training_loss, \"r--\")\n",
    "plt.plot(epoch_count, test_loss, \"b-\")\n",
    "plt.legend([\"Training Loss\", \"Test Loss\"])\n",
    "plt.xlabel(\"Epoch\")\n",
    "plt.ylabel(\"Loss\")\n",
    "plt.show()"
   ]
  },
  {
   "cell_type": "code",
   "execution_count": 107,
   "metadata": {
    "colab": {
     "base_uri": "https://localhost:8080/",
     "height": 279
    },
    "id": "wA1HO-jW2C2n",
    "outputId": "ce3379f9-fb69-497c-8ddc-1bc805a852af",
    "scrolled": true
   },
   "outputs": [
    {
     "data": {
      "image/png": "[encoded data removed]",
      "text/plain": [
       "<Figure size 432x288 with 1 Axes>"
      ]
     },
     "metadata": {
      "needs_background": "light"
     },
     "output_type": "display_data"
    }
   ],
   "source": [
    "# 定义epoch_count变量\n",
    "epoch_count = range(1, len(training_accuracy) + 1)\n",
    "\n",
    "# 保存训练精度和测试精度记录。\n",
    "training_accuracy = history.history[\"accuracy\"]\n",
    "test_accuracy = history.history[\"val_accuracy\"]\n",
    "plt.plot(epoch_count, training_accuracy, \"r--\")\n",
    "plt.plot(epoch_count, test_accuracy, \"b-\")\n",
    "\n",
    "# 绘制精度图。\n",
    "plt.legend([\"训练精度\", \"测试精度\"])\n",
    "plt.xlabel(\"Epoch\")\n",
    "plt.ylabel(\"精度得分\")\n",
    "plt.show();"
   ]
  },
  {
   "cell_type": "markdown",
   "metadata": {
    "id": "S1wHjNk62C2n"
   },
   "source": [
    "## 20.8 가중치 규제로 과대적합 줄이기"
   ]
  },
  {
   "cell_type": "code",
   "execution_count": 105,
   "metadata": {
    "id": "LvMRILwj2C2n"
   },
   "outputs": [
    {
     "name": "stdout",
     "output_type": "stream",
     "text": [
      "Train on 25000 samples, validate on 25000 samples\n",
      "Epoch 1/3\n",
      "25000/25000 [==============================] - 1s 37us/sample - loss: 0.6408 - accuracy: 0.8129 - val_loss: 0.4974 - val_accuracy: 0.8555\n",
      "Epoch 2/3\n",
      "25000/25000 [==============================] - 1s 31us/sample - loss: 0.4760 - accuracy: 0.8532 - val_loss: 0.4585 - val_accuracy: 0.8523\n",
      "Epoch 3/3\n",
      "25000/25000 [==============================] - 1s 30us/sample - loss: 0.4416 - accuracy: 0.8560 - val_loss: 0.4266 - val_accuracy: 0.8587\n"
     ]
    }
   ],
   "source": [
    "# 导入库。\n",
    "import numpy as np\n",
    "from tensorflow.keras.datasets import imdb\n",
    "from tensorflow.keras.preprocessing.text import Tokenizer\n",
    "from tensorflow.keras import models\n",
    "from tensorflow.keras import layers\n",
    "from tensorflow.keras import regularizers\n",
    "\n",
    "# 设置随机种子。\n",
    "np.random.seed(0)\n",
    "\n",
    "# 指定所需的特征数量。\n",
    "number_of_features = 1000\n",
    "\n",
    "# 将电影评论数据转换为one-hot编码的特征矩阵。\n",
    "tokenizer = Tokenizer(num_words=number_of_features)\n",
    "features_train = tokenizer.sequences_to_matrix(data_train, mode=\"binary\")\n",
    "features_test = tokenizer.sequences_to_matrix(data_test, mode=\"binary\")\n",
    "\n",
    "# 创建神经网络模型。\n",
    "network = models.Sequential()\n",
    "\n",
    "# 添加使用ReLU激活函数的全连接层。\n",
    "network.add(layers.Dense(units=16,\n",
    "                         activation=\"relu\",\n",
    "                         kernel_regularizer=regularizers.l2(0.01),\n",
    "                         input_shape=(number_of_features,)))\n",
    "\n",
    "# 再添加一个使用ReLU激活函数的全连接层。\n",
    "network.add(layers.Dense(units=16,\n",
    "                         kernel_regularizer=regularizers.l2(0.01),\n",
    "                         activation=\"relu\"))\n",
    "\n",
    "# 添加使用Sigmoid激活函数的全连接层。\n",
    "network.add(layers.Dense(units=1, activation=\"sigmoid\"))\n",
    "\n",
    "# 完成神经网络模型的设置。\n",
    "network.compile(loss=\"binary_crossentropy\", # 交叉熵\n",
    "                optimizer=\"rmsprop\", # 优化器\n",
    "                metrics=[\"accuracy\"]) # 性能指标\n",
    "\n",
    "# 训练神经网络。\n",
    "history = network.fit(features_train, # 特征\n",
    "                      target_train, # 目标向量\n",
    "                      epochs=3, # 迭代次数\n",
    "                      verbose=1, # 无输出\n",
    "                      batch_size=100, # 每批样本数量\n",
    "                      validation_data=(features_test, target_test)) # 测试数据"
   ]
  },
  {
   "cell_type": "code",
   "execution_count": 108,
   "metadata": {
    "id": "C6hr_m1V2C2o"
   },
   "outputs": [],
   "source": [
    "network.add(layers.Dense(units=16,\n",
    "                         activation=\"relu\",\n",
    "                         kernel_regularizer='l1_l2',\n",
    "                         input_shape=(number_of_features,)))"
   ]
  },
  {
   "cell_type": "markdown",
   "metadata": {
    "id": "X8boCPmH2C2o"
   },
   "source": [
    "## 20.9 通过提前终止减少过拟合"
   ]
  },
  {
   "cell_type": "markdown",
   "metadata": {},
   "source": [
    "### 清理内存\n",
    "##### 如果你连续运行了多个内存密集型任务，请确保在运行新任务前清理不再使用的变量并手动调用垃圾收集。"
   ]
  },
  {
   "cell_type": "code",
   "execution_count": 113,
   "metadata": {},
   "outputs": [
    {
     "data": {
      "text/plain": [
       "0"
      ]
     },
     "execution_count": 113,
     "metadata": {},
     "output_type": "execute_result"
    }
   ],
   "source": [
    "import gc\n",
    "\n",
    "# 删除变量\n",
    "del data_train, target_train, data_test, target_test\n",
    "gc.collect()\n",
    "\n",
    "del features_train, features_test\n",
    "gc.collect()"
   ]
  },
  {
   "cell_type": "code",
   "execution_count": 114,
   "metadata": {},
   "outputs": [],
   "source": [
    "import os\n",
    "\n",
    "# 当前文件的绝对路径\n",
    "current_dir = os.getcwd()\n",
    "\n",
    "# imdb.npz文件在当前目录下的路径\n",
    "local_imdb_path = os.path.join(current_dir, 'imdb.npz')\n",
    "\n",
    "# 从影评数据中加载数据和目标向量\n",
    "(data_train, target_train), (data_test, target_test) = imdb.load_data(\n",
    "    path=local_imdb_path,\n",
    "    num_words=number_of_features)"
   ]
  },
  {
   "cell_type": "code",
   "execution_count": 115,
   "metadata": {
    "id": "TxxEien42C2o"
   },
   "outputs": [
    {
     "name": "stdout",
     "output_type": "stream",
     "text": [
      "Train on 25000 samples, validate on 25000 samples\n",
      "Epoch 1/20\n",
      "25000/25000 [==============================] - 1s 39us/sample - loss: 0.4301 - accuracy: 0.8080 - val_loss: 0.3414 - val_accuracy: 0.8556\n",
      "Epoch 2/20\n",
      "25000/25000 [==============================] - 1s 30us/sample - loss: 0.3247 - accuracy: 0.8663 - val_loss: 0.3247 - val_accuracy: 0.8628\n",
      "Epoch 3/20\n",
      "25000/25000 [==============================] - 1s 29us/sample - loss: 0.3120 - accuracy: 0.8705 - val_loss: 0.3255 - val_accuracy: 0.8618\n",
      "Epoch 4/20\n",
      "25000/25000 [==============================] - 1s 29us/sample - loss: 0.3032 - accuracy: 0.8736 - val_loss: 0.3268 - val_accuracy: 0.8600\n"
     ]
    }
   ],
   "source": [
    "# 导入库。\n",
    "import numpy as np\n",
    "from tensorflow.keras.datasets import imdb\n",
    "from tensorflow.keras.preprocessing.text import Tokenizer\n",
    "from tensorflow.keras import models\n",
    "from tensorflow.keras import layers\n",
    "from tensorflow.keras.callbacks import EarlyStopping, ModelCheckpoint\n",
    "\n",
    "# 设置随机种子。\n",
    "np.random.seed(0)\n",
    "\n",
    "# 指定所需的特征数量。\n",
    "number_of_features = 1000\n",
    "\n",
    "# 将电影评论数据转换为one-hot编码的特征矩阵。\n",
    "tokenizer = Tokenizer(num_words=number_of_features)\n",
    "features_train = tokenizer.sequences_to_matrix(data_train, mode=\"binary\")\n",
    "features_test = tokenizer.sequences_to_matrix(data_test, mode=\"binary\")\n",
    "\n",
    "# 创建神经网络模型。\n",
    "network = models.Sequential()\n",
    "\n",
    "# 添加使用ReLU激活函数的全连接层。\n",
    "network.add(layers.Dense(units=16,\n",
    "                         activation=\"relu\",\n",
    "                         input_shape=(number_of_features,)))\n",
    "\n",
    "# 再添加一个使用ReLU激活函数的全连接层。\n",
    "network.add(layers.Dense(units=16, activation=\"relu\"))\n",
    "\n",
    "# 添加使用Sigmoid激活函数的全连接层。\n",
    "network.add(layers.Dense(units=1, activation=\"sigmoid\"))\n",
    "\n",
    "# 完成神经网络模型的设置。\n",
    "network.compile(loss=\"binary_crossentropy\", # 交叉熵\n",
    "                optimizer=\"rmsprop\", # 优化器\n",
    "                metrics=[\"accuracy\"]) # 性能指标\n",
    "\n",
    "# 为了提前终止训练并保存最佳模型，设置回调函数。\n",
    "callbacks = [EarlyStopping(monitor=\"val_loss\", patience=2),\n",
    "             ModelCheckpoint(filepath=\"best_model.h5\",\n",
    "                             monitor=\"val_loss\",\n",
    "                             save_best_only=True)]\n",
    "\n",
    "# 训练神经网络。\n",
    "history = network.fit(features_train, # 特征\n",
    "                      target_train, # 目标向量\n",
    "                      epochs=20, # 迭代次数\n",
    "                      callbacks=callbacks, # 提前终止\n",
    "                      verbose=1, # 无输出\n",
    "                      batch_size=100, # 每批样本数量\n",
    "                      validation_data=(features_test, target_test)) # 测试数据"
   ]
  },
  {
   "cell_type": "markdown",
   "metadata": {
    "id": "We_TzWOF2C2o"
   },
   "source": [
    "## 20.10 通过Dropout减少过拟合"
   ]
  },
  {
   "cell_type": "code",
   "execution_count": 116,
   "metadata": {
    "id": "hfqjA9wx2C2o"
   },
   "outputs": [
    {
     "name": "stdout",
     "output_type": "stream",
     "text": [
      "Train on 25000 samples, validate on 25000 samples\n",
      "Epoch 1/3\n",
      "Epoch 2/3\n",
      "Epoch 3/3\n"
     ]
    }
   ],
   "source": [
    "# 라이브러리를 임포트합니다.\n",
    "import numpy as np\n",
    "from tensorflow.keras.datasets import imdb\n",
    "from tensorflow.keras.preprocessing.text import Tokenizer\n",
    "from tensorflow.keras import models\n",
    "from tensorflow.keras import layers\n",
    "\n",
    "# 랜덤 시드를 설정합니다.\n",
    "np.random.seed(0)\n",
    "\n",
    "# 필요한 특성 개수를 지정합니다.\n",
    "number_of_features = 1000\n",
    "\n",
    "# 영화 리뷰 데이터를 원-핫 인코딩된 특성 행렬로 변환합니다.\n",
    "tokenizer = Tokenizer(num_words=number_of_features)\n",
    "features_train = tokenizer.sequences_to_matrix(data_train, mode=\"binary\")\n",
    "features_test = tokenizer.sequences_to_matrix(data_test, mode=\"binary\")\n",
    "\n",
    "# 신경망 모델을 만듭니다.\n",
    "network = models.Sequential()\n",
    "\n",
    "# 입력층으로 드롭아웃 층을 추가합니다.\n",
    "network.add(layers.Dropout(0.2, input_shape=(number_of_features,)))\n",
    "\n",
    "# 렐루 활성화 함수를 사용한 완전 연결 층을 추가합니다.\n",
    "network.add(layers.Dense(units=16, activation=\"relu\"))\n",
    "\n",
    "# Add a dropout layer for previous hidden layer\n",
    "network.add(layers.Dropout(0.5))\n",
    "\n",
    "# 렐루 활성화 함수를 사용한 완전 연결 층을 추가합니다.\n",
    "network.add(layers.Dense(units=16, activation=\"relu\"))\n",
    "\n",
    "# Add a dropout layer for previous hidden layer\n",
    "network.add(layers.Dropout(0.5))\n",
    "\n",
    "# 시그모이드 활성화 함수를 사용한 완전 연결 층을 추가합니다.\n",
    "network.add(layers.Dense(units=1, activation=\"sigmoid\"))\n",
    "\n",
    "# 신경망의 모델 설정을 완료합니다.\n",
    "network.compile(loss=\"binary_crossentropy\", # 크로스 엔트로피\n",
    "                optimizer=\"rmsprop\", # 옵티마이저\n",
    "                metrics=[\"accuracy\"]) # 성능 지표\n",
    "\n",
    "# 신경망을 훈련합니다.\n",
    "history = network.fit(features_train, # 특성\n",
    "                      target_train, # 타깃 벡터\n",
    "                      epochs=3, # 에포크 횟수\n",
    "                      verbose=11, # 출력 없음\n",
    "                      batch_size=100, # 배치의 샘플 개수\n",
    "                      validation_data=(features_test, target_test)) # 테스트 데이터"
   ]
  },
  {
   "cell_type": "markdown",
   "metadata": {
    "id": "IJ8tN4gV2C2o"
   },
   "source": [
    "## 20.11 保存模型训练过程"
   ]
  },
  {
   "cell_type": "code",
   "execution_count": 119,
   "metadata": {
    "id": "S8YAdpzJ2C2o"
   },
   "outputs": [
    {
     "name": "stdout",
     "output_type": "stream",
     "text": [
      "Train on 25000 samples, validate on 25000 samples\n",
      "Epoch 1/3\n",
      "25000/25000 [==============================] - 1s 37us/sample - loss: 0.4460 - accuracy: 0.8035 - val_loss: 0.3425 - val_accuracy: 0.8561\n",
      "Epoch 2/3\n",
      "25000/25000 [==============================] - 1s 29us/sample - loss: 0.3257 - accuracy: 0.8635 - val_loss: 0.3247 - val_accuracy: 0.8625\n",
      "Epoch 3/3\n",
      "25000/25000 [==============================] - 1s 29us/sample - loss: 0.3113 - accuracy: 0.8709 - val_loss: 0.3284 - val_accuracy: 0.8613\n"
     ]
    }
   ],
   "source": [
    "# 导入库。\n",
    "import numpy as np\n",
    "from tensorflow.keras.datasets import imdb\n",
    "from tensorflow.keras.preprocessing.text import Tokenizer\n",
    "from tensorflow.keras import models\n",
    "from tensorflow.keras import layers\n",
    "from tensorflow.keras.callbacks import ModelCheckpoint\n",
    "\n",
    "# 设置随机种子。\n",
    "np.random.seed(0)\n",
    "\n",
    "# 指定所需的特征数量。\n",
    "number_of_features = 1000\n",
    "\n",
    "# 将电影评论数据转换为one-hot编码的特征矩阵。\n",
    "tokenizer = Tokenizer(num_words=number_of_features)\n",
    "features_train = tokenizer.sequences_to_matrix(data_train, mode=\"binary\")\n",
    "features_test = tokenizer.sequences_to_matrix(data_test, mode=\"binary\")\n",
    "\n",
    "# 创建神经网络模型。\n",
    "network = models.Sequential()\n",
    "\n",
    "# 添加使用ReLU激活函数的全连接层。\n",
    "network.add(layers.Dense(units=16,\n",
    "                         activation=\"relu\",\n",
    "                         input_shape=(number_of_features,)))\n",
    "\n",
    "# 再添加一个使用ReLU激活函数的全连接层。\n",
    "network.add(layers.Dense(units=16, activation=\"relu\"))\n",
    "\n",
    "# 添加使用Sigmoid激活函数的全连接层。\n",
    "network.add(layers.Dense(units=1, activation=\"sigmoid\"))\n",
    "\n",
    "# 完成神经网络模型的设置。\n",
    "network.compile(loss=\"binary_crossentropy\", # 交叉熵\n",
    "                optimizer=\"rmsprop\", # 优化器\n",
    "                metrics=[\"accuracy\"]) # 性能指标\n",
    "\n",
    "# 为了提前终止训练并保存最佳模型，设置回调函数。\n",
    "checkpoint = [ModelCheckpoint(filepath=\"models.hdf5\")]\n",
    "\n",
    "# 训练神经网络。\n",
    "history = network.fit(features_train, # 特征\n",
    "                      target_train, # 目标向量\n",
    "                      epochs=3, # 迭代次数\n",
    "                      callbacks=checkpoint, # 检查点\n",
    "                      verbose=1, # 无输出\n",
    "                      batch_size=100, # 每批样本数量\n",
    "                      validation_data=(features_test, target_test)) # 测试数据"
   ]
  },
  {
   "cell_type": "markdown",
   "metadata": {
    "id": "8A5Ot0232C2o"
   },
   "source": [
    "## 20.12 使用k折交叉验证评估神经网络"
   ]
  },
  {
   "cell_type": "code",
   "execution_count": 121,
   "metadata": {
    "colab": {
     "base_uri": "https://localhost:8080/"
    },
    "id": "GLIbKMBY2C2p",
    "outputId": "60248a14-7beb-4061-8174-88e11d8fa72b"
   },
   "outputs": [
    {
     "name": "stdout",
     "output_type": "stream",
     "text": [
      "Train on 6666 samples\n",
      "Epoch 1/10\n",
      "6666/6666 [==============================] - 0s 39us/sample - loss: 0.8336 - accuracy: 0.5170\n",
      "Epoch 2/10\n",
      "6666/6666 [==============================] - 0s 13us/sample - loss: 0.6864 - accuracy: 0.5638\n",
      "Epoch 3/10\n",
      "6666/6666 [==============================] - 0s 12us/sample - loss: 0.6458 - accuracy: 0.6292\n",
      "Epoch 4/10\n",
      "6666/6666 [==============================] - 0s 12us/sample - loss: 0.6047 - accuracy: 0.6797\n",
      "Epoch 5/10\n",
      "6666/6666 [==============================] - 0s 12us/sample - loss: 0.5614 - accuracy: 0.7184\n",
      "Epoch 6/10\n",
      "6666/6666 [==============================] - 0s 13us/sample - loss: 0.5165 - accuracy: 0.7490\n",
      "Epoch 7/10\n",
      "6666/6666 [==============================] - 0s 12us/sample - loss: 0.4664 - accuracy: 0.7874\n",
      "Epoch 8/10\n",
      "6666/6666 [==============================] - 0s 12us/sample - loss: 0.4070 - accuracy: 0.8293\n",
      "Epoch 9/10\n",
      "6666/6666 [==============================] - 0s 12us/sample - loss: 0.3406 - accuracy: 0.8683\n",
      "Epoch 10/10\n",
      "6666/6666 [==============================] - 0s 12us/sample - loss: 0.2817 - accuracy: 0.9016\n",
      "3334/3334 [==============================] - 0s 19us/sample - loss: 0.3057 - accuracy: 0.8812\n",
      "Train on 6667 samples\n",
      "Epoch 1/10\n",
      "6667/6667 [==============================] - 0s 39us/sample - loss: 0.7000 - accuracy: 0.5281\n",
      "Epoch 2/10\n",
      "6667/6667 [==============================] - 0s 12us/sample - loss: 0.6670 - accuracy: 0.5949\n",
      "Epoch 3/10\n",
      "6667/6667 [==============================] - 0s 12us/sample - loss: 0.6324 - accuracy: 0.6487\n",
      "Epoch 4/10\n",
      "6667/6667 [==============================] - 0s 12us/sample - loss: 0.5819 - accuracy: 0.7123\n",
      "Epoch 5/10\n",
      "6667/6667 [==============================] - 0s 12us/sample - loss: 0.5100 - accuracy: 0.7698\n",
      "Epoch 6/10\n",
      "6667/6667 [==============================] - 0s 12us/sample - loss: 0.4238 - accuracy: 0.8250\n",
      "Epoch 7/10\n",
      "6667/6667 [==============================] - 0s 12us/sample - loss: 0.3388 - accuracy: 0.8751\n",
      "Epoch 8/10\n",
      "6667/6667 [==============================] - 0s 12us/sample - loss: 0.2720 - accuracy: 0.9037\n",
      "Epoch 9/10\n",
      "6667/6667 [==============================] - 0s 12us/sample - loss: 0.2264 - accuracy: 0.9202\n",
      "Epoch 10/10\n",
      "6667/6667 [==============================] - 0s 12us/sample - loss: 0.1971 - accuracy: 0.9303\n",
      "3333/3333 [==============================] - 0s 19us/sample - loss: 0.2349 - accuracy: 0.9142\n",
      "Train on 6667 samples\n",
      "Epoch 1/10\n",
      "6667/6667 [==============================] - 0s 39us/sample - loss: 0.7151 - accuracy: 0.5328\n",
      "Epoch 2/10\n",
      "6667/6667 [==============================] - 0s 13us/sample - loss: 0.6595 - accuracy: 0.5985\n",
      "Epoch 3/10\n",
      "6667/6667 [==============================] - 0s 12us/sample - loss: 0.6174 - accuracy: 0.6582\n",
      "Epoch 4/10\n",
      "6667/6667 [==============================] - 0s 12us/sample - loss: 0.5675 - accuracy: 0.7039\n",
      "Epoch 5/10\n",
      "6667/6667 [==============================] - 0s 12us/sample - loss: 0.5088 - accuracy: 0.7548\n",
      "Epoch 6/10\n",
      "6667/6667 [==============================] - 0s 12us/sample - loss: 0.4454 - accuracy: 0.7999\n",
      "Epoch 7/10\n",
      "6667/6667 [==============================] - 0s 12us/sample - loss: 0.3770 - accuracy: 0.8454\n",
      "Epoch 8/10\n",
      "6667/6667 [==============================] - 0s 12us/sample - loss: 0.3096 - accuracy: 0.8841\n",
      "Epoch 9/10\n",
      "6667/6667 [==============================] - 0s 12us/sample - loss: 0.2529 - accuracy: 0.9115\n",
      "Epoch 10/10\n",
      "6667/6667 [==============================] - 0s 12us/sample - loss: 0.2121 - accuracy: 0.9261\n",
      "3333/3333 [==============================] - 0s 19us/sample - loss: 0.2550 - accuracy: 0.9013\n"
     ]
    },
    {
     "data": {
      "text/plain": [
       "array([0.88122374, 0.91419142, 0.90129012])"
      ]
     },
     "execution_count": 121,
     "metadata": {},
     "output_type": "execute_result"
    }
   ],
   "source": [
    "# 导入库。\n",
    "import numpy as np\n",
    "from tensorflow.keras import models\n",
    "from tensorflow.keras import layers\n",
    "from tensorflow.keras.wrappers.scikit_learn import KerasClassifier\n",
    "from sklearn.model_selection import cross_val_score\n",
    "from sklearn.datasets import make_classification\n",
    "\n",
    "# 设置随机种子。\n",
    "np.random.seed(0)\n",
    "\n",
    "# 特征数量\n",
    "number_of_features = 100\n",
    "\n",
    "# 创建特征矩阵和目标向量。\n",
    "features, target = make_classification(n_samples = 10000,\n",
    "                                       n_features = number_of_features,\n",
    "                                       n_informative = 3,\n",
    "                                       n_redundant = 0,\n",
    "                                       n_classes = 2,\n",
    "                                       weights = [.5, .5],\n",
    "                                       random_state = 0)\n",
    "\n",
    "# 创建返回已配置网络的函数。\n",
    "def create_network():\n",
    "\n",
    "    # 创建神经网络模型。\n",
    "    network = models.Sequential()\n",
    "\n",
    "    # 添加使用ReLU激活函数的全连接层。\n",
    "    network.add(layers.Dense(units=16, activation=\"relu\", input_shape=(\n",
    "        number_of_features,)))\n",
    "\n",
    "    # 再添加一个使用ReLU激活函数的全连接层。\n",
    "    network.add(layers.Dense(units=16, activation=\"relu\"))\n",
    "\n",
    "    # 添加使用Sigmoid激活函数的全连接层。\n",
    "    network.add(layers.Dense(units=1, activation=\"sigmoid\"))\n",
    "\n",
    "    # 完成神经网络模型的配置。\n",
    "    network.compile(loss=\"binary_crossentropy\", # 二元交叉熵\n",
    "                    optimizer=\"rmsprop\", # 优化器\n",
    "                    metrics=[\"accuracy\"]) # 性能指标\n",
    "\n",
    "    # 返回配置完成的模型。\n",
    "    return network\n",
    "\n",
    "# 将Keras模型包装起来使其能在scikit-learn中使用。\n",
    "neural_network = KerasClassifier(build_fn=create_network,\n",
    "                                 epochs=10,\n",
    "                                 batch_size=100,\n",
    "                                 verbose=1)\n",
    "\n",
    "# 使用3折交叉验证评估神经网络。\n",
    "cross_val_score(neural_network, features, target, cv=3)"
   ]
  },
  {
   "cell_type": "markdown",
   "metadata": {
    "id": "6R37Bw1D2C2p"
   },
   "source": [
    "## 20.13 调校神经网络"
   ]
  },
  {
   "cell_type": "code",
   "execution_count": 122,
   "metadata": {
    "id": "stV68fON2C2p"
   },
   "outputs": [
    {
     "name": "stderr",
     "output_type": "stream",
     "text": [
      "/Python3.7/lib/python3.6/site-packages/sklearn/model_selection/_split.py:2053: FutureWarning: You should specify a value for 'cv' instead of relying on the default value. The default value will change from 3 to 5 in version 0.22.\n",
      "  warnings.warn(CV_WARNING, FutureWarning)\n"
     ]
    }
   ],
   "source": [
    "# 导入库。\n",
    "import numpy as np\n",
    "from tensorflow.keras import models\n",
    "from tensorflow.keras import layers\n",
    "from tensorflow.keras.wrappers.scikit_learn import KerasClassifier\n",
    "from sklearn.model_selection import GridSearchCV\n",
    "from sklearn.datasets import make_classification\n",
    "\n",
    "# 设置随机种子。\n",
    "np.random.seed(0)\n",
    "\n",
    "# 特征数量\n",
    "number_of_features = 100\n",
    "\n",
    "# 创建特征矩阵和目标向量。\n",
    "features, target = make_classification(n_samples = 10000,\n",
    "                                       n_features = number_of_features,\n",
    "                                       n_informative = 3,\n",
    "                                       n_redundant = 0,\n",
    "                                       n_classes = 2,\n",
    "                                       weights = [.5, .5],\n",
    "                                       random_state = 0)\n",
    "\n",
    "# 创建返回已配置网络的函数。\n",
    "def create_network(optimizer=\"rmsprop\"):\n",
    "\n",
    "    # 创建神经网络模型。\n",
    "    network = models.Sequential()\n",
    "\n",
    "    # 添加使用ReLU激活函数的全连接层。\n",
    "    network.add(layers.Dense(units=16,\n",
    "                             activation=\"relu\",\n",
    "                             input_shape=(number_of_features,)))\n",
    "\n",
    "    # 再添加一个使用ReLU激活函数的全连接层。\n",
    "    network.add(layers.Dense(units=16, activation=\"relu\"))\n",
    "\n",
    "    # 添加使用Sigmoid激活函数的全连接层。\n",
    "    network.add(layers.Dense(units=1, activation=\"sigmoid\"))\n",
    "\n",
    "    # 完成神经网络模型的配置。\n",
    "    network.compile(loss=\"binary_crossentropy\", # 二元交叉熵\n",
    "                    optimizer=optimizer, # 优化器\n",
    "                    metrics=[\"accuracy\"]) # 性能指标\n",
    "\n",
    "    # 返回配置完成的模型。\n",
    "    return network\n",
    "\n",
    "# 将Keras模型包装起来使其能在scikit-learn中使用。\n",
    "neural_network = KerasClassifier(build_fn=create_network, verbose=0)\n",
    "\n",
    "# 定义超参数搜索范围。\n",
    "epochs = [5, 10]\n",
    "batches = [5, 10, 100]\n",
    "optimizers = [\"rmsprop\", \"adam\"]\n",
    "\n",
    "# 创建超参数网格。\n",
    "hyperparameters = dict(optimizer=optimizers, epochs=epochs, batch_size=batches)\n",
    "\n",
    "# 创建网格搜索。\n",
    "grid = GridSearchCV(estimator=neural_network, param_grid=hyperparameters)\n",
    "\n",
    "# 执行网格搜索。\n",
    "grid_result = grid.fit(features, target)"
   ]
  },
  {
   "cell_type": "code",
   "execution_count": 123,
   "metadata": {
    "colab": {
     "base_uri": "https://localhost:8080/"
    },
    "id": "nm1KNrSW2C2p",
    "outputId": "14a744fe-d991-4572-8028-854e60c8e74c"
   },
   "outputs": [
    {
     "data": {
      "text/plain": [
       "{'batch_size': 10, 'epochs': 5, 'optimizer': 'adam'}"
      ]
     },
     "execution_count": 123,
     "metadata": {},
     "output_type": "execute_result"
    }
   ],
   "source": [
    "# 检查最佳神经网络超参数。\n",
    "grid_result.best_params_"
   ]
  },
  {
   "cell_type": "markdown",
   "metadata": {
    "id": "_WtGoE-E2C2p"
   },
   "source": [
    "## 20.14 可视化神经网络"
   ]
  },
  {
   "cell_type": "code",
   "execution_count": 164,
   "metadata": {
    "colab": {
     "base_uri": "https://localhost:8080/",
     "height": 562
    },
    "id": "pN9cSoU62C2p",
    "outputId": "1767ca5f-d204-4586-e113-83d6ee572397"
   },
   "outputs": [
    {
     "name": "stdout",
     "output_type": "stream",
     "text": [
      "Model: \"sequential_83\"\n",
      "_________________________________________________________________\n",
      "Layer (type)                 Output Shape              Param #   \n",
      "=================================================================\n",
      "dense_253 (Dense)            (None, 16)                176       \n",
      "_________________________________________________________________\n",
      "dense_254 (Dense)            (None, 16)                272       \n",
      "_________________________________________________________________\n",
      "dense_255 (Dense)            (None, 1)                 17        \n",
      "=================================================================\n",
      "Total params: 465\n",
      "Trainable params: 465\n",
      "Non-trainable params: 0\n",
      "_________________________________________________________________\n"
     ]
    }
   ],
   "source": [
    "from tensorflow.keras import models\n",
    "from tensorflow.keras import layers\n",
    "\n",
    "# 创建神经网络模型\n",
    "network = models.Sequential()\n",
    "\n",
    "# 添加使用ReLU激活函数的全连接层\n",
    "network.add(layers.Dense(units=16, activation=\"relu\", input_shape=(10,)))\n",
    "\n",
    "# 再添加一个使用ReLU激活函数的全连接层\n",
    "network.add(layers.Dense(units=16, activation=\"relu\"))\n",
    "\n",
    "# 添加使用Sigmoid激活函数的全连接层\n",
    "network.add(layers.Dense(units=1, activation=\"sigmoid\"))\n",
    "\n",
    "# 使用summary方法打印模型概览\n",
    "network.summary()"
   ]
  },
  {
   "cell_type": "markdown",
   "metadata": {
    "id": "BbpUbtcO2C2q"
   },
   "source": [
    "## 20.15 图像分类"
   ]
  },
  {
   "cell_type": "code",
   "execution_count": 165,
   "metadata": {},
   "outputs": [
    {
     "name": "stdout",
     "output_type": "stream",
     "text": [
      "npz文件中的键名: ['x_test', 'x_train', 'y_train', 'y_test']\n",
      "键 'x_test' 对应的数组形状: (10000, 28, 28)\n",
      "键 'x_train' 对应的数组形状: (60000, 28, 28)\n",
      "键 'y_train' 对应的数组形状: (60000,)\n",
      "键 'y_test' 对应的数组形状: (10000,)\n"
     ]
    }
   ],
   "source": [
    "# 指定本地 mnist.npz 文件的路径。mnist.npz是一个打包了MNIST数据集的文件，包含训练集和测试集。\n",
    "path = './mnist.npz'\n",
    "\n",
    "# 使用 NumPy 的 load 函数直接加载 .npz 文件。\n",
    "# allow_pickle=True 参数允许加载存储在npz文件中的对象数组，这是因为MNIST数据集的标签是以列表形式存储的。\n",
    "with np.load(path, allow_pickle=True) as f:\n",
    "    # 从文件中提取训练集的图像和标签。\n",
    "    # f['x_train'] 获取训练集图像，这是一个形状为 (60000, 28, 28) 的数组，\n",
    "    # 表示有60,000个样本，每个样本是28x28像素的图像。\n",
    "    data_train, target_train = f['x_train'], f['y_train']\n",
    "    \n",
    "    # 从文件中提取测试集的图像和标签。\n",
    "    # f['x_test'] 获取测试集图像，这是一个形状为 (10000, 28, 28) 的数组，\n",
    "    # 表示有10,000个样本，每个样本是28x28像素的图像。\n",
    "    data_test, target_test = f['x_test'], f['y_test']\n",
    "\n",
    "# 使用NumPy的load函数直接加载.npz文件\n",
    "with np.load(path, allow_pickle=True) as data:\n",
    "    # 打印所有包含的数组的键名\n",
    "    print(\"npz文件中的键名:\", data.files)\n",
    "    \n",
    "    # 遍历所有键名，并打印每个数组的形状\n",
    "    for key in data.files:\n",
    "        print(f\"键 '{key}' 对应的数组形状:\", data[key].shape)"
   ]
  },
  {
   "cell_type": "code",
   "execution_count": 168,
   "metadata": {
    "colab": {
     "base_uri": "https://localhost:8080/"
    },
    "id": "TYHqLhig2C2q",
    "outputId": "910fbf0a-09b4-491b-e974-38352edac8ac"
   },
   "outputs": [
    {
     "name": "stdout",
     "output_type": "stream",
     "text": [
      "Train on 60000 samples, validate on 10000 samples\n",
      "Epoch 1/5\n",
      "60000/60000 [==============================] - 38s 635us/sample - loss: 0.6133 - accuracy: 0.8098 - val_loss: 0.1737 - val_accuracy: 0.9506\n",
      "Epoch 2/5\n",
      "60000/60000 [==============================] - 38s 633us/sample - loss: 0.2007 - accuracy: 0.9411 - val_loss: 0.0897 - val_accuracy: 0.9712\n",
      "Epoch 3/5\n",
      "60000/60000 [==============================] - 38s 630us/sample - loss: 0.1289 - accuracy: 0.9622 - val_loss: 0.0653 - val_accuracy: 0.9794\n",
      "Epoch 4/5\n",
      "60000/60000 [==============================] - 38s 626us/sample - loss: 0.1010 - accuracy: 0.9697 - val_loss: 0.0503 - val_accuracy: 0.9842\n",
      "Epoch 5/5\n",
      "60000/60000 [==============================] - 38s 634us/sample - loss: 0.0866 - accuracy: 0.9739 - val_loss: 0.0446 - val_accuracy: 0.9852\n"
     ]
    },
    {
     "data": {
      "text/plain": [
       "<tensorflow.python.keras.callbacks.History at 0x7fabbd8fd978>"
      ]
     },
     "execution_count": 168,
     "metadata": {},
     "output_type": "execute_result"
    }
   ],
   "source": [
    "import numpy as np\n",
    "from tensorflow.keras.datasets import mnist\n",
    "from tensorflow.keras.models import Sequential\n",
    "from tensorflow.keras.layers import Dense, Dropout, Flatten\n",
    "# 如果使用多后端Keras，请使用以下代码\n",
    "# from keras.layers.convolutional import Conv2D, MaxPooling2D\n",
    "from tensorflow.keras.layers import Conv2D, MaxPooling2D\n",
    "# 如果使用多后端Keras，请使用以下代码\n",
    "# from keras.utils.np_utils import to_categorical\n",
    "from tensorflow.keras.utils import to_categorical\n",
    "from tensorflow.keras import backend as K\n",
    "\n",
    "# 将颜色通道设置为首个维度。\n",
    "K.set_image_data_format(\"channels_last\")\n",
    "\n",
    "# 设置随机种子。\n",
    "np.random.seed(0)\n",
    "\n",
    "# 设置图像信息。\n",
    "channels = 1\n",
    "height = 28\n",
    "width = 28\n",
    "\n",
    "# 将训练图像数据调整为特征的尺寸。\n",
    "data_train = data_train.reshape(data_train.shape[0], channels, height, width)\n",
    "\n",
    "# 将测试图像数据调整为特征的尺寸。\n",
    "data_test = data_test.reshape(data_test.shape[0], channels, height, width)\n",
    "\n",
    "# 将像素强度的范围缩放到0到1之间。\n",
    "features_train = data_train / 255\n",
    "features_test = data_test / 255\n",
    "\n",
    "# 由于改变了数据格式，我们需要重新调整特征的形状\n",
    "# 从原来的(data_train.shape[0], channels, height, width)调整为(data_train.shape[0], height, width, channels)\n",
    "features_train = features_train.reshape(features_train.shape[0], height, width, channels)\n",
    "features_test = features_test.reshape(features_test.shape[0], height, width, channels)\n",
    "\n",
    "# 确保模型的输入层匹配新的数据格式\n",
    "network = Sequential()\n",
    "\n",
    "# 修改输入层的input_shape参数以匹配NHWC格式\n",
    "network.add(Conv2D(filters=64,\n",
    "                   kernel_size=(5, 5),\n",
    "                   input_shape=(height, width, channels),\n",
    "                   activation='relu'))\n",
    "\n",
    "# 添加使用2x2窗口的最大池化层。\n",
    "network.add(MaxPooling2D(pool_size=(2, 2)))\n",
    "\n",
    "# 添加一个dropout层。\n",
    "network.add(Dropout(0.5))\n",
    "\n",
    "# 添加一个展平层以将输入展开为一维向量。\n",
    "network.add(Flatten())\n",
    "\n",
    "# 添加一个128个单元、使用ReLU激活函数的全连接层。\n",
    "network.add(Dense(128, activation=\"relu\"))\n",
    "\n",
    "# 添加一个dropout层。\n",
    "network.add(Dropout(0.5))\n",
    "\n",
    "# 添加一个使用softmax激活函数的全连接层。\n",
    "network.add(Dense(number_of_classes, activation=\"softmax\"))\n",
    "\n",
    "# 完成神经网络模型的配置。\n",
    "network.compile(loss=\"categorical_crossentropy\", # 交叉熵\n",
    "                optimizer=\"rmsprop\", # 优化器\n",
    "                metrics=[\"accuracy\"]) # 性能指标\n",
    "\n",
    "# 训练神经网络。\n",
    "network.fit(features_train, # 特征\n",
    "            target_train, # 目标\n",
    "            epochs=5, # 训练轮数\n",
    "            verbose=1, # 显示输出\n",
    "            batch_size=1000, # 批量大小\n",
    "            validation_data=(features_test, target_test)) # 验证数据"
   ]
  },
  {
   "cell_type": "code",
   "execution_count": 146,
   "metadata": {
    "colab": {
     "base_uri": "https://localhost:8080/"
    },
    "id": "4qmHmZpk2C2q",
    "outputId": "b94ca3a1-6359-4f9d-a68f-84e4c14287fd"
   },
   "outputs": [
    {
     "name": "stdout",
     "output_type": "stream",
     "text": [
      "Model: \"sequential_78\"\n",
      "_________________________________________________________________\n",
      "Layer (type)                 Output Shape              Param #   \n",
      "=================================================================\n",
      "conv2d_6 (Conv2D)            (None, 64, 24, 24)        1664      \n",
      "_________________________________________________________________\n",
      "max_pooling2d_5 (MaxPooling2 (None, 64, 12, 12)        0         \n",
      "_________________________________________________________________\n",
      "dropout_13 (Dropout)         (None, 64, 12, 12)        0         \n",
      "_________________________________________________________________\n",
      "flatten_5 (Flatten)          (None, 9216)              0         \n",
      "_________________________________________________________________\n",
      "dense_247 (Dense)            (None, 128)               1179776   \n",
      "_________________________________________________________________\n",
      "dropout_14 (Dropout)         (None, 128)               0         \n",
      "_________________________________________________________________\n",
      "dense_248 (Dense)            (None, 10)                1290      \n",
      "=================================================================\n",
      "Total params: 1,182,730\n",
      "Trainable params: 1,182,730\n",
      "Non-trainable params: 0\n",
      "_________________________________________________________________\n"
     ]
    }
   ],
   "source": [
    "network.summary()"
   ]
  },
  {
   "cell_type": "code",
   "execution_count": 169,
   "metadata": {},
   "outputs": [
    {
     "name": "stdout",
     "output_type": "stream",
     "text": [
      "10000/10000 [==============================] - 2s 156us/sample - loss: 0.0446 - accuracy: 0.9852\n",
      "Test Loss: 0.04462142323297449\n",
      "Test Accuracy: 0.9851999878883362\n"
     ]
    }
   ],
   "source": [
    "# 测试集上的评估\n",
    "test_loss, test_accuracy = network.evaluate(features_test, target_test, verbose=1)\n",
    "\n",
    "print(f\"Test Loss: {test_loss}\")\n",
    "print(f\"Test Accuracy: {test_accuracy}\")"
   ]
  },
  {
   "cell_type": "code",
   "execution_count": null,
   "metadata": {},
   "outputs": [
    {
     "name": "stdout",
     "output_type": "stream",
     "text": [
      "Train on 60000 samples, validate on 10000 samples\n",
      "Epoch 1/5\n",
      "60000/60000 [==============================] - 38s 630us/sample - loss: 0.0730 - accuracy: 0.9783 - val_loss: 0.0411 - val_accuracy: 0.9857\n",
      "Epoch 2/5\n",
      "60000/60000 [==============================] - 38s 627us/sample - loss: 0.0661 - accuracy: 0.9796 - val_loss: 0.0389 - val_accuracy: 0.9873\n",
      "Epoch 3/5\n",
      "60000/60000 [==============================] - 38s 627us/sample - loss: 0.0616 - accuracy: 0.9815 - val_loss: 0.0351 - val_accuracy: 0.9883\n",
      "Epoch 4/5\n",
      "60000/60000 [==============================] - 38s 628us/sample - loss: 0.0543 - accuracy: 0.9831 - val_loss: 0.0360 - val_accuracy: 0.9883\n",
      "Epoch 5/5\n",
      "55000/60000 [==========================>...] - ETA: 2s - loss: 0.0522 - accuracy: 0.9843"
     ]
    }
   ],
   "source": [
    "import matplotlib.pyplot as plt\n",
    "\n",
    "# 训练神经网络并保存训练过程中的信息\n",
    "history = network.fit(features_train, target_train, epochs=5, verbose=1, batch_size=1000, validation_data=(features_test, target_test))\n",
    "\n",
    "# 绘制训练过程中的损失\n",
    "plt.figure(figsize=(10, 4))\n",
    "plt.subplot(1, 2, 1)\n",
    "plt.plot(history.history['loss'], label='Training Loss')\n",
    "plt.plot(history.history['val_loss'], label='Validation Loss')\n",
    "plt.title('Loss During Training')\n",
    "plt.xlabel('Epoch')\n",
    "plt.ylabel('Loss')\n",
    "plt.legend()\n",
    "\n",
    "# 绘制训练过程中的准确率\n",
    "plt.subplot(1, 2, 2)\n",
    "plt.plot(history.history['accuracy'], label='Training Accuracy')\n",
    "plt.plot(history.history['val_accuracy'], label='Validation Accuracy')\n",
    "plt.title('Accuracy During Training')\n",
    "plt.xlabel('Epoch')\n",
    "plt.ylabel('Accuracy')\n",
    "plt.legend()\n",
    "\n",
    "plt.tight_layout()\n",
    "plt.show()"
   ]
  },
  {
   "cell_type": "markdown",
   "metadata": {
    "id": "qKAUpgcp2C2q"
   },
   "source": [
    "## 20.16 通过图像增强来改善卷积神经网络的性能"
   ]
  },
  {
   "cell_type": "code",
   "execution_count": 2,
   "metadata": {
    "colab": {
     "base_uri": "https://localhost:8080/"
    },
    "id": "PClU-UDw2C2q",
    "outputId": "fe6e867f-10bc-4cd5-c9da-eee02c5800fc"
   },
   "outputs": [],
   "source": [
    "# 如果在 Google Colab 上运行，请删除以下注释并执行。\n",
    "import zipfile\n",
    "\n",
    "# 指定要解压缩的文件名\n",
    "file_name = 'raw.zip'\n",
    "\n",
    "# 解压缩文件\n",
    "with zipfile.ZipFile(file_name, 'r') as zip_ref:\n",
    "    zip_ref.extractall('.')"
   ]
  },
  {
   "cell_type": "code",
   "execution_count": 4,
   "metadata": {
    "colab": {
     "base_uri": "https://localhost:8080/"
    },
    "id": "SZLz3idj2C2q",
    "outputId": "b001d648-9366-4905-efff-13404552ad55",
    "scrolled": true
   },
   "outputs": [
    {
     "name": "stdout",
     "output_type": "stream",
     "text": [
      "Found 12665 images belonging to 2 classes.\n"
     ]
    }
   ],
   "source": [
    "# 导入库。\n",
    "from tensorflow.keras.preprocessing.image import ImageDataGenerator\n",
    "\n",
    "# 创建图像增强对象。\n",
    "augmentation = ImageDataGenerator(featurewise_center=True, # 应用 ZCA 白化。\n",
    "                                  zoom_range=0.3, # 随机缩放图像。\n",
    "                                  width_shift_range=0.2, # 随机移动图像。\n",
    "                                  horizontal_flip=True, # 随机水平翻转图像。\n",
    "                                  rotation_range=90) # 随机旋转图像。\n",
    "\n",
    "# 将增强应用于“raw/images”目录中的所有图像。\n",
    "augment_images = augmentation.flow_from_directory(\"raw/images\", # 图像文件夹\n",
    "                                                  batch_size=32, # 批处理大小\n",
    "                                                  class_mode=\"binary\", # 类别模式\n",
    "                                                  save_to_dir=\"processed/images\") # 将增强后的图像保存到指定目录。"
   ]
  },
  {
   "cell_type": "markdown",
   "metadata": {
    "id": "XPZjma-H2C2q"
   },
   "source": [
    "```python\n",
    "# 训练神经网络模型。\n",
    "network.fit_generator(augment_images,\n",
    "                      # 每个epoch调用生成器的次数。\n",
    "                      steps_per_epoch=2000,\n",
    "                      # epoch数量。\n",
    "                      epochs=5,\n",
    "                      # 验证数据生成器。\n",
    "                      validation_data=augment_images_test,\n",
    "                      # 在每个验证epoch期间调用生成器的次数。\n",
    "                      validation_steps=800)\n",
    "```"
   ]
  },
  {
   "cell_type": "markdown",
   "metadata": {
    "id": "VkzlsJk92C2q",
    "tags": []
   },
   "source": [
    "## 20.17 文本分类"
   ]
  },
  {
   "cell_type": "code",
   "execution_count": 6,
   "metadata": {
    "id": "99DMLzSJ2C2q"
   },
   "outputs": [],
   "source": [
    "# 恢复在20.15节中设置的颜色通道位置。\n",
    "# 书中没有此代码。\n",
    "from tensorflow.keras import backend as K\n",
    "\n",
    "K.set_image_data_format(\"channels_last\")"
   ]
  },
  {
   "cell_type": "code",
   "execution_count": 7,
   "metadata": {
    "id": "MsanVrGI2C2r"
   },
   "outputs": [],
   "source": [
    "# 导入库。\n",
    "import numpy as np\n",
    "from tensorflow.keras.datasets import imdb\n",
    "from tensorflow.keras.preprocessing import sequence\n",
    "from tensorflow.keras import models\n",
    "from tensorflow.keras import layers\n",
    "\n",
    "# 设置随机种子。\n",
    "np.random.seed(0)\n",
    "\n",
    "# 指定所需特征的数量。\n",
    "number_of_features = 1000\n",
    "\n",
    "### 从电影评论数据加载训练数据和目标向量。\n",
    "import os\n",
    "\n",
    "# 当前文件的绝对路径\n",
    "current_dir = os.getcwd()\n",
    "\n",
    "# imdb.npz文件在当前目录下的路径\n",
    "local_imdb_path = os.path.join(current_dir, 'imdb.npz')\n",
    "\n",
    "# 从影评数据中加载数据和目标向量\n",
    "(data_train, target_train), (data_test, target_test) = imdb.load_data(\n",
    "    path=local_imdb_path,\n",
    "    num_words=number_of_features)\n",
    "\n",
    "###\n",
    "\n",
    "# 对每个样本进行填充或截断，使其具有400个特征。\n",
    "features_train = sequence.pad_sequences(data_train, maxlen=400)\n",
    "features_test = sequence.pad_sequences(data_test, maxlen=400)\n",
    "\n",
    "# 创建神经网络模型。\n",
    "network = models.Sequential()\n",
    "\n",
    "# 添加嵌入层。\n",
    "network.add(layers.Embedding(input_dim=number_of_features, output_dim=128))\n",
    "\n",
    "# 添加具有128个单元的LSTM层。\n",
    "network.add(layers.LSTM(units=128))\n",
    "\n",
    "# 添加具有sigmoid激活函数的全连接层。\n",
    "network.add(layers.Dense(units=1, activation=\"sigmoid\"))\n",
    "\n",
    "# 完成神经网络模型的配置。\n",
    "network.compile(loss=\"binary_crossentropy\", # 二元交叉熵\n",
    "                optimizer=\"Adam\", # 优化器\n",
    "                metrics=[\"accuracy\"]) # 性能指标"
   ]
  },
  {
   "cell_type": "code",
   "execution_count": 8,
   "metadata": {},
   "outputs": [
    {
     "name": "stdout",
     "output_type": "stream",
     "text": [
      "Model: \"sequential\"\n",
      "_________________________________________________________________\n",
      "Layer (type)                 Output Shape              Param #   \n",
      "=================================================================\n",
      "embedding (Embedding)        (None, None, 128)         128000    \n",
      "_________________________________________________________________\n",
      "lstm (LSTM)                  (None, 128)               131584    \n",
      "_________________________________________________________________\n",
      "dense (Dense)                (None, 1)                 129       \n",
      "=================================================================\n",
      "Total params: 259,713\n",
      "Trainable params: 259,713\n",
      "Non-trainable params: 0\n",
      "_________________________________________________________________\n"
     ]
    }
   ],
   "source": [
    "network.summary()"
   ]
  },
  {
   "cell_type": "code",
   "execution_count": 9,
   "metadata": {},
   "outputs": [
    {
     "name": "stderr",
     "output_type": "stream",
     "text": [
      "WARNING: Logging before flag parsing goes to stderr.\n",
      "W0326 22:16:29.641951 140174145750848 deprecation.py:323] From /Python3.7/lib/python3.6/site-packages/tensorflow/python/ops/math_grad.py:1250: add_dispatch_support.<locals>.wrapper (from tensorflow.python.ops.array_ops) is deprecated and will be removed in a future version.\n",
      "Instructions for updating:\n",
      "Use tf.where in 2.0, which has the same broadcast rule as np.where\n"
     ]
    },
    {
     "ename": "KeyboardInterrupt",
     "evalue": "",
     "output_type": "error",
     "traceback": [
      "\u001b[0;31m---------------------------------------------------------------------------\u001b[0m",
      "\u001b[0;31mKeyboardInterrupt\u001b[0m                         Traceback (most recent call last)",
      "\u001b[0;32m<ipython-input-9-db54f430b51e>\u001b[0m in \u001b[0;36m<module>\u001b[0;34m\u001b[0m\n\u001b[1;32m      5\u001b[0m                       \u001b[0mverbose\u001b[0m\u001b[0;34m=\u001b[0m\u001b[0;36m0\u001b[0m\u001b[0;34m,\u001b[0m \u001b[0;31m# 不显示输出\u001b[0m\u001b[0;34m\u001b[0m\u001b[0;34m\u001b[0m\u001b[0m\n\u001b[1;32m      6\u001b[0m                       \u001b[0mbatch_size\u001b[0m\u001b[0;34m=\u001b[0m\u001b[0;36m1000\u001b[0m\u001b[0;34m,\u001b[0m \u001b[0;31m# 批量大小\u001b[0m\u001b[0;34m\u001b[0m\u001b[0;34m\u001b[0m\u001b[0m\n\u001b[0;32m----> 7\u001b[0;31m                       validation_data=(features_test, target_test)) # 测试数据\n\u001b[0m",
      "\u001b[0;32m/Python3.7/lib/python3.6/site-packages/tensorflow/python/keras/engine/training.py\u001b[0m in \u001b[0;36mfit\u001b[0;34m(self, x, y, batch_size, epochs, verbose, callbacks, validation_split, validation_data, shuffle, class_weight, sample_weight, initial_epoch, steps_per_epoch, validation_steps, validation_freq, max_queue_size, workers, use_multiprocessing, **kwargs)\u001b[0m\n\u001b[1;32m    641\u001b[0m         \u001b[0mmax_queue_size\u001b[0m\u001b[0;34m=\u001b[0m\u001b[0mmax_queue_size\u001b[0m\u001b[0;34m,\u001b[0m\u001b[0;34m\u001b[0m\u001b[0;34m\u001b[0m\u001b[0m\n\u001b[1;32m    642\u001b[0m         \u001b[0mworkers\u001b[0m\u001b[0;34m=\u001b[0m\u001b[0mworkers\u001b[0m\u001b[0;34m,\u001b[0m\u001b[0;34m\u001b[0m\u001b[0;34m\u001b[0m\u001b[0m\n\u001b[0;32m--> 643\u001b[0;31m         use_multiprocessing=use_multiprocessing)\n\u001b[0m\u001b[1;32m    644\u001b[0m \u001b[0;34m\u001b[0m\u001b[0m\n\u001b[1;32m    645\u001b[0m   def evaluate(self,\n",
      "\u001b[0;32m/Python3.7/lib/python3.6/site-packages/tensorflow/python/keras/engine/training_arrays.py\u001b[0m in \u001b[0;36mfit\u001b[0;34m(self, model, x, y, batch_size, epochs, verbose, callbacks, validation_split, validation_data, shuffle, class_weight, sample_weight, initial_epoch, steps_per_epoch, validation_steps, validation_freq, **kwargs)\u001b[0m\n\u001b[1;32m    662\u001b[0m         \u001b[0mvalidation_steps\u001b[0m\u001b[0;34m=\u001b[0m\u001b[0mvalidation_steps\u001b[0m\u001b[0;34m,\u001b[0m\u001b[0;34m\u001b[0m\u001b[0;34m\u001b[0m\u001b[0m\n\u001b[1;32m    663\u001b[0m         \u001b[0mvalidation_freq\u001b[0m\u001b[0;34m=\u001b[0m\u001b[0mvalidation_freq\u001b[0m\u001b[0;34m,\u001b[0m\u001b[0;34m\u001b[0m\u001b[0;34m\u001b[0m\u001b[0m\n\u001b[0;32m--> 664\u001b[0;31m         steps_name='steps_per_epoch')\n\u001b[0m\u001b[1;32m    665\u001b[0m \u001b[0;34m\u001b[0m\u001b[0m\n\u001b[1;32m    666\u001b[0m   def evaluate(self,\n",
      "\u001b[0;32m/Python3.7/lib/python3.6/site-packages/tensorflow/python/keras/engine/training_arrays.py\u001b[0m in \u001b[0;36mmodel_iteration\u001b[0;34m(model, inputs, targets, sample_weights, batch_size, epochs, verbose, callbacks, val_inputs, val_targets, val_sample_weights, shuffle, initial_epoch, steps_per_epoch, validation_steps, validation_freq, mode, validation_in_fit, prepared_feed_values_from_dataset, steps_name, **kwargs)\u001b[0m\n\u001b[1;32m    381\u001b[0m \u001b[0;34m\u001b[0m\u001b[0m\n\u001b[1;32m    382\u001b[0m         \u001b[0;31m# Get outputs.\u001b[0m\u001b[0;34m\u001b[0m\u001b[0;34m\u001b[0m\u001b[0;34m\u001b[0m\u001b[0m\n\u001b[0;32m--> 383\u001b[0;31m         \u001b[0mbatch_outs\u001b[0m \u001b[0;34m=\u001b[0m \u001b[0mf\u001b[0m\u001b[0;34m(\u001b[0m\u001b[0mins_batch\u001b[0m\u001b[0;34m)\u001b[0m\u001b[0;34m\u001b[0m\u001b[0;34m\u001b[0m\u001b[0m\n\u001b[0m\u001b[1;32m    384\u001b[0m         \u001b[0;32mif\u001b[0m \u001b[0;32mnot\u001b[0m \u001b[0misinstance\u001b[0m\u001b[0;34m(\u001b[0m\u001b[0mbatch_outs\u001b[0m\u001b[0;34m,\u001b[0m \u001b[0mlist\u001b[0m\u001b[0;34m)\u001b[0m\u001b[0;34m:\u001b[0m\u001b[0;34m\u001b[0m\u001b[0;34m\u001b[0m\u001b[0m\n\u001b[1;32m    385\u001b[0m           \u001b[0mbatch_outs\u001b[0m \u001b[0;34m=\u001b[0m \u001b[0;34m[\u001b[0m\u001b[0mbatch_outs\u001b[0m\u001b[0;34m]\u001b[0m\u001b[0;34m\u001b[0m\u001b[0;34m\u001b[0m\u001b[0m\n",
      "\u001b[0;32m/Python3.7/lib/python3.6/site-packages/tensorflow/python/keras/backend.py\u001b[0m in \u001b[0;36m__call__\u001b[0;34m(self, inputs)\u001b[0m\n\u001b[1;32m   3508\u001b[0m         \u001b[0mvalue\u001b[0m \u001b[0;34m=\u001b[0m \u001b[0mmath_ops\u001b[0m\u001b[0;34m.\u001b[0m\u001b[0mcast\u001b[0m\u001b[0;34m(\u001b[0m\u001b[0mvalue\u001b[0m\u001b[0;34m,\u001b[0m \u001b[0mtensor\u001b[0m\u001b[0;34m.\u001b[0m\u001b[0mdtype\u001b[0m\u001b[0;34m)\u001b[0m\u001b[0;34m\u001b[0m\u001b[0;34m\u001b[0m\u001b[0m\n\u001b[1;32m   3509\u001b[0m       \u001b[0mconverted_inputs\u001b[0m\u001b[0;34m.\u001b[0m\u001b[0mappend\u001b[0m\u001b[0;34m(\u001b[0m\u001b[0mvalue\u001b[0m\u001b[0;34m)\u001b[0m\u001b[0;34m\u001b[0m\u001b[0;34m\u001b[0m\u001b[0m\n\u001b[0;32m-> 3510\u001b[0;31m     \u001b[0moutputs\u001b[0m \u001b[0;34m=\u001b[0m \u001b[0mself\u001b[0m\u001b[0;34m.\u001b[0m\u001b[0m_graph_fn\u001b[0m\u001b[0;34m(\u001b[0m\u001b[0;34m*\u001b[0m\u001b[0mconverted_inputs\u001b[0m\u001b[0;34m)\u001b[0m\u001b[0;34m\u001b[0m\u001b[0;34m\u001b[0m\u001b[0m\n\u001b[0m\u001b[1;32m   3511\u001b[0m \u001b[0;34m\u001b[0m\u001b[0m\n\u001b[1;32m   3512\u001b[0m     \u001b[0;31m# EagerTensor.numpy() will often make a copy to ensure memory safety.\u001b[0m\u001b[0;34m\u001b[0m\u001b[0;34m\u001b[0m\u001b[0;34m\u001b[0m\u001b[0m\n",
      "\u001b[0;32m/Python3.7/lib/python3.6/site-packages/tensorflow/python/eager/function.py\u001b[0m in \u001b[0;36m__call__\u001b[0;34m(self, *args, **kwargs)\u001b[0m\n\u001b[1;32m    570\u001b[0m       raise TypeError(\"Keyword arguments {} unknown. Expected {}.\".format(\n\u001b[1;32m    571\u001b[0m           list(kwargs.keys()), list(self._arg_keywords)))\n\u001b[0;32m--> 572\u001b[0;31m     \u001b[0;32mreturn\u001b[0m \u001b[0mself\u001b[0m\u001b[0;34m.\u001b[0m\u001b[0m_call_flat\u001b[0m\u001b[0;34m(\u001b[0m\u001b[0margs\u001b[0m\u001b[0;34m)\u001b[0m\u001b[0;34m\u001b[0m\u001b[0;34m\u001b[0m\u001b[0m\n\u001b[0m\u001b[1;32m    573\u001b[0m \u001b[0;34m\u001b[0m\u001b[0m\n\u001b[1;32m    574\u001b[0m   \u001b[0;32mdef\u001b[0m \u001b[0m_filtered_call\u001b[0m\u001b[0;34m(\u001b[0m\u001b[0mself\u001b[0m\u001b[0;34m,\u001b[0m \u001b[0margs\u001b[0m\u001b[0;34m,\u001b[0m \u001b[0mkwargs\u001b[0m\u001b[0;34m)\u001b[0m\u001b[0;34m:\u001b[0m\u001b[0;34m\u001b[0m\u001b[0;34m\u001b[0m\u001b[0m\n",
      "\u001b[0;32m/Python3.7/lib/python3.6/site-packages/tensorflow/python/eager/function.py\u001b[0m in \u001b[0;36m_call_flat\u001b[0;34m(self, args)\u001b[0m\n\u001b[1;32m    669\u001b[0m     \u001b[0;31m# Only need to override the gradient in graph mode and when we have outputs.\u001b[0m\u001b[0;34m\u001b[0m\u001b[0;34m\u001b[0m\u001b[0;34m\u001b[0m\u001b[0m\n\u001b[1;32m    670\u001b[0m     \u001b[0;32mif\u001b[0m \u001b[0mcontext\u001b[0m\u001b[0;34m.\u001b[0m\u001b[0mexecuting_eagerly\u001b[0m\u001b[0;34m(\u001b[0m\u001b[0;34m)\u001b[0m \u001b[0;32mor\u001b[0m \u001b[0;32mnot\u001b[0m \u001b[0mself\u001b[0m\u001b[0;34m.\u001b[0m\u001b[0moutputs\u001b[0m\u001b[0;34m:\u001b[0m\u001b[0;34m\u001b[0m\u001b[0;34m\u001b[0m\u001b[0m\n\u001b[0;32m--> 671\u001b[0;31m       \u001b[0moutputs\u001b[0m \u001b[0;34m=\u001b[0m \u001b[0mself\u001b[0m\u001b[0;34m.\u001b[0m\u001b[0m_inference_function\u001b[0m\u001b[0;34m.\u001b[0m\u001b[0mcall\u001b[0m\u001b[0;34m(\u001b[0m\u001b[0mctx\u001b[0m\u001b[0;34m,\u001b[0m \u001b[0margs\u001b[0m\u001b[0;34m)\u001b[0m\u001b[0;34m\u001b[0m\u001b[0;34m\u001b[0m\u001b[0m\n\u001b[0m\u001b[1;32m    672\u001b[0m     \u001b[0;32melse\u001b[0m\u001b[0;34m:\u001b[0m\u001b[0;34m\u001b[0m\u001b[0;34m\u001b[0m\u001b[0m\n\u001b[1;32m    673\u001b[0m       \u001b[0mself\u001b[0m\u001b[0;34m.\u001b[0m\u001b[0m_register_gradient\u001b[0m\u001b[0;34m(\u001b[0m\u001b[0;34m)\u001b[0m\u001b[0;34m\u001b[0m\u001b[0;34m\u001b[0m\u001b[0m\n",
      "\u001b[0;32m/Python3.7/lib/python3.6/site-packages/tensorflow/python/eager/function.py\u001b[0m in \u001b[0;36mcall\u001b[0;34m(self, ctx, args)\u001b[0m\n\u001b[1;32m    443\u001b[0m             attrs=(\"executor_type\", executor_type,\n\u001b[1;32m    444\u001b[0m                    \"config_proto\", config),\n\u001b[0;32m--> 445\u001b[0;31m             ctx=ctx)\n\u001b[0m\u001b[1;32m    446\u001b[0m       \u001b[0;31m# Replace empty list with None\u001b[0m\u001b[0;34m\u001b[0m\u001b[0;34m\u001b[0m\u001b[0;34m\u001b[0m\u001b[0m\n\u001b[1;32m    447\u001b[0m       \u001b[0moutputs\u001b[0m \u001b[0;34m=\u001b[0m \u001b[0moutputs\u001b[0m \u001b[0;32mor\u001b[0m \u001b[0;32mNone\u001b[0m\u001b[0;34m\u001b[0m\u001b[0;34m\u001b[0m\u001b[0m\n",
      "\u001b[0;32m/Python3.7/lib/python3.6/site-packages/tensorflow/python/eager/execute.py\u001b[0m in \u001b[0;36mquick_execute\u001b[0;34m(op_name, num_outputs, inputs, attrs, ctx, name)\u001b[0m\n\u001b[1;32m     59\u001b[0m     tensors = pywrap_tensorflow.TFE_Py_Execute(ctx._handle, device_name,\n\u001b[1;32m     60\u001b[0m                                                \u001b[0mop_name\u001b[0m\u001b[0;34m,\u001b[0m \u001b[0minputs\u001b[0m\u001b[0;34m,\u001b[0m \u001b[0mattrs\u001b[0m\u001b[0;34m,\u001b[0m\u001b[0;34m\u001b[0m\u001b[0;34m\u001b[0m\u001b[0m\n\u001b[0;32m---> 61\u001b[0;31m                                                num_outputs)\n\u001b[0m\u001b[1;32m     62\u001b[0m   \u001b[0;32mexcept\u001b[0m \u001b[0mcore\u001b[0m\u001b[0;34m.\u001b[0m\u001b[0m_NotOkStatusException\u001b[0m \u001b[0;32mas\u001b[0m \u001b[0me\u001b[0m\u001b[0;34m:\u001b[0m\u001b[0;34m\u001b[0m\u001b[0;34m\u001b[0m\u001b[0m\n\u001b[1;32m     63\u001b[0m     \u001b[0;32mif\u001b[0m \u001b[0mname\u001b[0m \u001b[0;32mis\u001b[0m \u001b[0;32mnot\u001b[0m \u001b[0;32mNone\u001b[0m\u001b[0;34m:\u001b[0m\u001b[0;34m\u001b[0m\u001b[0;34m\u001b[0m\u001b[0m\n",
      "\u001b[0;31mKeyboardInterrupt\u001b[0m: "
     ]
    }
   ],
   "source": [
    "# 训练神经网络。\n",
    "history = network.fit(features_train, # 特征\n",
    "                      target_train, # 目标\n",
    "                      epochs=3, # 训练轮数\n",
    "                      verbose=1, # 不显示输出\n",
    "                      batch_size=1000, # 批量大小\n",
    "                      validation_data=(features_test, target_test)) # 测试数据"
   ]
  },
  {
   "cell_type": "code",
   "execution_count": 159,
   "metadata": {
    "colab": {
     "base_uri": "https://localhost:8080/"
    },
    "id": "M9E4QMQO2C2r",
    "outputId": "69619541-9443-4be2-f813-1cb06056afe6"
   },
   "outputs": [
    {
     "name": "stdout",
     "output_type": "stream",
     "text": [
      "[1, 14, 22, 16, 43, 530, 973, 2, 2, 65, 458, 2, 66, 2, 4, 173, 36, 256, 5, 25, 100, 43, 838, 112, 50, 670, 2, 9, 35, 480, 284, 5, 150, 4, 172, 112, 167, 2, 336, 385, 39, 4, 172, 2, 2, 17, 546, 38, 13, 447, 4, 192, 50, 16, 6, 147, 2, 19, 14, 22, 4, 2, 2, 469, 4, 22, 71, 87, 12, 16, 43, 530, 38, 76, 15, 13, 2, 4, 22, 17, 515, 17, 12, 16, 626, 18, 2, 5, 62, 386, 12, 8, 316, 8, 106, 5, 4, 2, 2, 16, 480, 66, 2, 33, 4, 130, 12, 16, 38, 619, 5, 25, 124, 51, 36, 135, 48, 25, 2, 33, 6, 22, 12, 215, 28, 77, 52, 5, 14, 407, 16, 82, 2, 8, 4, 107, 117, 2, 15, 256, 4, 2, 7, 2, 5, 723, 36, 71, 43, 530, 476, 26, 400, 317, 46, 7, 4, 2, 2, 13, 104, 88, 4, 381, 15, 297, 98, 32, 2, 56, 26, 141, 6, 194, 2, 18, 4, 226, 22, 21, 134, 476, 26, 480, 5, 144, 30, 2, 18, 51, 36, 28, 224, 92, 25, 104, 4, 226, 65, 16, 38, 2, 88, 12, 16, 283, 5, 16, 2, 113, 103, 32, 15, 16, 2, 19, 178, 32]\n"
     ]
    }
   ],
   "source": [
    "# 查看第一个样本\n",
    "print(data_train[0])"
   ]
  },
  {
   "cell_type": "code",
   "execution_count": 160,
   "metadata": {
    "colab": {
     "base_uri": "https://localhost:8080/"
    },
    "id": "OTP4joHG2C2r",
    "outputId": "a7a26254-4622-42f8-a834-11b4f55d820a",
    "scrolled": true
   },
   "outputs": [
    {
     "name": "stdout",
     "output_type": "stream",
     "text": [
      "[  0   0   0   0   0   0   0   0   0   0   0   0   0   0   0   0   0   0\n",
      "   0   0   0   0   0   0   0   0   0   0   0   0   0   0   0   0   0   0\n",
      "   0   0   0   0   0   0   0   0   0   0   0   0   0   0   0   0   0   0\n",
      "   0   0   0   0   0   0   0   0   0   0   0   0   0   0   0   0   0   0\n",
      "   0   0   0   0   0   0   0   0   0   0   0   0   0   0   0   0   0   0\n",
      "   0   0   0   0   0   0   0   0   0   0   0   0   0   0   0   0   0   0\n",
      "   0   0   0   0   0   0   0   0   0   0   0   0   0   0   0   0   0   0\n",
      "   0   0   0   0   0   0   0   0   0   0   0   0   0   0   0   0   0   0\n",
      "   0   0   0   0   0   0   0   0   0   0   0   0   0   0   0   0   0   0\n",
      "   0   0   0   0   0   0   0   0   0   0   0   0   0   0   0   0   0   0\n",
      "   0   0   0   0   0   0   0   0   0   0   0   0   0   0   0   0   0   0\n",
      "   0   0   0   0   0   0   0   0   0   0   0   0   0   0   0   0   0   0\n",
      "   0   0   0   0   0   0   0   0   0   0   0   0   0   0   0   0   0   0\n",
      "   0   0   0   0   0   0   0   0   0   0   0   0   0   0   0   0   0   0\n",
      "   0   0   0   0   0   0   0   0   0   0   0   0   0   0   0   0   0   0\n",
      "   0   0   0   0   0   0   0   0   0   0   0   0   0   0   0   0   0   0\n",
      "   0   0   0   0   0   0   0   0   0   0   0   0   0   0   0   0   0   0\n",
      "   0   0   0   0   0   0   0   0   0   0   0   0   0   0   0   0   0   0\n",
      "   0   0   0   0   0   0   0   0   1 591 202  14  31   6 717  10  10   2\n",
      "   2   5   4 360   7   4 177   2 394 354   4 123   9   2   2   2  10  10\n",
      "  13  92 124  89 488   2 100  28   2  14  31  23  27   2  29 220 468   8\n",
      " 124  14 286 170   8 157  46   5  27 239  16 179   2  38  32  25   2 451\n",
      " 202  14   6 717]\n"
     ]
    }
   ],
   "source": [
    "# 查看第一个样本\n",
    "print(features_test[0])"
   ]
  },
  {
   "cell_type": "markdown",
   "metadata": {
    "id": "2x-5XNZ_2C2r"
   },
   "source": [
    "### 附录"
   ]
  },
  {
   "cell_type": "code",
   "execution_count": 162,
   "metadata": {
    "id": "-uDwUWOt2C2r"
   },
   "outputs": [
    {
     "ename": "ResourceExhaustedError",
     "evalue": " OOM when allocating tensor with shape[1000,400,128] and type float on /job:localhost/replica:0/task:0/device:CPU:0 by allocator cpu\n\t [[node embedding_3/embedding_lookup (defined at <ipython-input-162-d1dd546c27f1>:24) ]]\nHint: If you want to see a list of allocated tensors when OOM happens, add report_tensor_allocations_upon_oom to RunOptions for current allocation info.\n [Op:__inference_keras_scratch_graph_1835327]\n\nFunction call stack:\nkeras_scratch_graph\n",
     "output_type": "error",
     "traceback": [
      "\u001b[0;31m---------------------------------------------------------------------------\u001b[0m",
      "\u001b[0;31mResourceExhaustedError\u001b[0m                    Traceback (most recent call last)",
      "\u001b[0;32m<ipython-input-162-d1dd546c27f1>\u001b[0m in \u001b[0;36m<module>\u001b[0;34m\u001b[0m\n\u001b[1;32m     22\u001b[0m                       \u001b[0mverbose\u001b[0m\u001b[0;34m=\u001b[0m\u001b[0;36m0\u001b[0m\u001b[0;34m,\u001b[0m \u001b[0;31m# 不显示输出\u001b[0m\u001b[0;34m\u001b[0m\u001b[0;34m\u001b[0m\u001b[0m\n\u001b[1;32m     23\u001b[0m                       \u001b[0mbatch_size\u001b[0m\u001b[0;34m=\u001b[0m\u001b[0;36m1000\u001b[0m\u001b[0;34m,\u001b[0m \u001b[0;31m# 批量大小\u001b[0m\u001b[0;34m\u001b[0m\u001b[0;34m\u001b[0m\u001b[0m\n\u001b[0;32m---> 24\u001b[0;31m                       validation_data=(features_test, target_test)) # 测试数据\n\u001b[0m",
      "\u001b[0;32m/Python3.7/lib/python3.6/site-packages/tensorflow/python/keras/engine/training.py\u001b[0m in \u001b[0;36mfit\u001b[0;34m(self, x, y, batch_size, epochs, verbose, callbacks, validation_split, validation_data, shuffle, class_weight, sample_weight, initial_epoch, steps_per_epoch, validation_steps, validation_freq, max_queue_size, workers, use_multiprocessing, **kwargs)\u001b[0m\n\u001b[1;32m    641\u001b[0m         \u001b[0mmax_queue_size\u001b[0m\u001b[0;34m=\u001b[0m\u001b[0mmax_queue_size\u001b[0m\u001b[0;34m,\u001b[0m\u001b[0;34m\u001b[0m\u001b[0;34m\u001b[0m\u001b[0m\n\u001b[1;32m    642\u001b[0m         \u001b[0mworkers\u001b[0m\u001b[0;34m=\u001b[0m\u001b[0mworkers\u001b[0m\u001b[0;34m,\u001b[0m\u001b[0;34m\u001b[0m\u001b[0;34m\u001b[0m\u001b[0m\n\u001b[0;32m--> 643\u001b[0;31m         use_multiprocessing=use_multiprocessing)\n\u001b[0m\u001b[1;32m    644\u001b[0m \u001b[0;34m\u001b[0m\u001b[0m\n\u001b[1;32m    645\u001b[0m   def evaluate(self,\n",
      "\u001b[0;32m/Python3.7/lib/python3.6/site-packages/tensorflow/python/keras/engine/training_arrays.py\u001b[0m in \u001b[0;36mfit\u001b[0;34m(self, model, x, y, batch_size, epochs, verbose, callbacks, validation_split, validation_data, shuffle, class_weight, sample_weight, initial_epoch, steps_per_epoch, validation_steps, validation_freq, **kwargs)\u001b[0m\n\u001b[1;32m    662\u001b[0m         \u001b[0mvalidation_steps\u001b[0m\u001b[0;34m=\u001b[0m\u001b[0mvalidation_steps\u001b[0m\u001b[0;34m,\u001b[0m\u001b[0;34m\u001b[0m\u001b[0;34m\u001b[0m\u001b[0m\n\u001b[1;32m    663\u001b[0m         \u001b[0mvalidation_freq\u001b[0m\u001b[0;34m=\u001b[0m\u001b[0mvalidation_freq\u001b[0m\u001b[0;34m,\u001b[0m\u001b[0;34m\u001b[0m\u001b[0;34m\u001b[0m\u001b[0m\n\u001b[0;32m--> 664\u001b[0;31m         steps_name='steps_per_epoch')\n\u001b[0m\u001b[1;32m    665\u001b[0m \u001b[0;34m\u001b[0m\u001b[0m\n\u001b[1;32m    666\u001b[0m   def evaluate(self,\n",
      "\u001b[0;32m/Python3.7/lib/python3.6/site-packages/tensorflow/python/keras/engine/training_arrays.py\u001b[0m in \u001b[0;36mmodel_iteration\u001b[0;34m(model, inputs, targets, sample_weights, batch_size, epochs, verbose, callbacks, val_inputs, val_targets, val_sample_weights, shuffle, initial_epoch, steps_per_epoch, validation_steps, validation_freq, mode, validation_in_fit, prepared_feed_values_from_dataset, steps_name, **kwargs)\u001b[0m\n\u001b[1;32m    381\u001b[0m \u001b[0;34m\u001b[0m\u001b[0m\n\u001b[1;32m    382\u001b[0m         \u001b[0;31m# Get outputs.\u001b[0m\u001b[0;34m\u001b[0m\u001b[0;34m\u001b[0m\u001b[0;34m\u001b[0m\u001b[0m\n\u001b[0;32m--> 383\u001b[0;31m         \u001b[0mbatch_outs\u001b[0m \u001b[0;34m=\u001b[0m \u001b[0mf\u001b[0m\u001b[0;34m(\u001b[0m\u001b[0mins_batch\u001b[0m\u001b[0;34m)\u001b[0m\u001b[0;34m\u001b[0m\u001b[0;34m\u001b[0m\u001b[0m\n\u001b[0m\u001b[1;32m    384\u001b[0m         \u001b[0;32mif\u001b[0m \u001b[0;32mnot\u001b[0m \u001b[0misinstance\u001b[0m\u001b[0;34m(\u001b[0m\u001b[0mbatch_outs\u001b[0m\u001b[0;34m,\u001b[0m \u001b[0mlist\u001b[0m\u001b[0;34m)\u001b[0m\u001b[0;34m:\u001b[0m\u001b[0;34m\u001b[0m\u001b[0;34m\u001b[0m\u001b[0m\n\u001b[1;32m    385\u001b[0m           \u001b[0mbatch_outs\u001b[0m \u001b[0;34m=\u001b[0m \u001b[0;34m[\u001b[0m\u001b[0mbatch_outs\u001b[0m\u001b[0;34m]\u001b[0m\u001b[0;34m\u001b[0m\u001b[0;34m\u001b[0m\u001b[0m\n",
      "\u001b[0;32m/Python3.7/lib/python3.6/site-packages/tensorflow/python/keras/backend.py\u001b[0m in \u001b[0;36m__call__\u001b[0;34m(self, inputs)\u001b[0m\n\u001b[1;32m   3508\u001b[0m         \u001b[0mvalue\u001b[0m \u001b[0;34m=\u001b[0m \u001b[0mmath_ops\u001b[0m\u001b[0;34m.\u001b[0m\u001b[0mcast\u001b[0m\u001b[0;34m(\u001b[0m\u001b[0mvalue\u001b[0m\u001b[0;34m,\u001b[0m \u001b[0mtensor\u001b[0m\u001b[0;34m.\u001b[0m\u001b[0mdtype\u001b[0m\u001b[0;34m)\u001b[0m\u001b[0;34m\u001b[0m\u001b[0;34m\u001b[0m\u001b[0m\n\u001b[1;32m   3509\u001b[0m       \u001b[0mconverted_inputs\u001b[0m\u001b[0;34m.\u001b[0m\u001b[0mappend\u001b[0m\u001b[0;34m(\u001b[0m\u001b[0mvalue\u001b[0m\u001b[0;34m)\u001b[0m\u001b[0;34m\u001b[0m\u001b[0;34m\u001b[0m\u001b[0m\n\u001b[0;32m-> 3510\u001b[0;31m     \u001b[0moutputs\u001b[0m \u001b[0;34m=\u001b[0m \u001b[0mself\u001b[0m\u001b[0;34m.\u001b[0m\u001b[0m_graph_fn\u001b[0m\u001b[0;34m(\u001b[0m\u001b[0;34m*\u001b[0m\u001b[0mconverted_inputs\u001b[0m\u001b[0;34m)\u001b[0m\u001b[0;34m\u001b[0m\u001b[0;34m\u001b[0m\u001b[0m\n\u001b[0m\u001b[1;32m   3511\u001b[0m \u001b[0;34m\u001b[0m\u001b[0m\n\u001b[1;32m   3512\u001b[0m     \u001b[0;31m# EagerTensor.numpy() will often make a copy to ensure memory safety.\u001b[0m\u001b[0;34m\u001b[0m\u001b[0;34m\u001b[0m\u001b[0;34m\u001b[0m\u001b[0m\n",
      "\u001b[0;32m/Python3.7/lib/python3.6/site-packages/tensorflow/python/eager/function.py\u001b[0m in \u001b[0;36m__call__\u001b[0;34m(self, *args, **kwargs)\u001b[0m\n\u001b[1;32m    570\u001b[0m       raise TypeError(\"Keyword arguments {} unknown. Expected {}.\".format(\n\u001b[1;32m    571\u001b[0m           list(kwargs.keys()), list(self._arg_keywords)))\n\u001b[0;32m--> 572\u001b[0;31m     \u001b[0;32mreturn\u001b[0m \u001b[0mself\u001b[0m\u001b[0;34m.\u001b[0m\u001b[0m_call_flat\u001b[0m\u001b[0;34m(\u001b[0m\u001b[0margs\u001b[0m\u001b[0;34m)\u001b[0m\u001b[0;34m\u001b[0m\u001b[0;34m\u001b[0m\u001b[0m\n\u001b[0m\u001b[1;32m    573\u001b[0m \u001b[0;34m\u001b[0m\u001b[0m\n\u001b[1;32m    574\u001b[0m   \u001b[0;32mdef\u001b[0m \u001b[0m_filtered_call\u001b[0m\u001b[0;34m(\u001b[0m\u001b[0mself\u001b[0m\u001b[0;34m,\u001b[0m \u001b[0margs\u001b[0m\u001b[0;34m,\u001b[0m \u001b[0mkwargs\u001b[0m\u001b[0;34m)\u001b[0m\u001b[0;34m:\u001b[0m\u001b[0;34m\u001b[0m\u001b[0;34m\u001b[0m\u001b[0m\n",
      "\u001b[0;32m/Python3.7/lib/python3.6/site-packages/tensorflow/python/eager/function.py\u001b[0m in \u001b[0;36m_call_flat\u001b[0;34m(self, args)\u001b[0m\n\u001b[1;32m    669\u001b[0m     \u001b[0;31m# Only need to override the gradient in graph mode and when we have outputs.\u001b[0m\u001b[0;34m\u001b[0m\u001b[0;34m\u001b[0m\u001b[0;34m\u001b[0m\u001b[0m\n\u001b[1;32m    670\u001b[0m     \u001b[0;32mif\u001b[0m \u001b[0mcontext\u001b[0m\u001b[0;34m.\u001b[0m\u001b[0mexecuting_eagerly\u001b[0m\u001b[0;34m(\u001b[0m\u001b[0;34m)\u001b[0m \u001b[0;32mor\u001b[0m \u001b[0;32mnot\u001b[0m \u001b[0mself\u001b[0m\u001b[0;34m.\u001b[0m\u001b[0moutputs\u001b[0m\u001b[0;34m:\u001b[0m\u001b[0;34m\u001b[0m\u001b[0;34m\u001b[0m\u001b[0m\n\u001b[0;32m--> 671\u001b[0;31m       \u001b[0moutputs\u001b[0m \u001b[0;34m=\u001b[0m \u001b[0mself\u001b[0m\u001b[0;34m.\u001b[0m\u001b[0m_inference_function\u001b[0m\u001b[0;34m.\u001b[0m\u001b[0mcall\u001b[0m\u001b[0;34m(\u001b[0m\u001b[0mctx\u001b[0m\u001b[0;34m,\u001b[0m \u001b[0margs\u001b[0m\u001b[0;34m)\u001b[0m\u001b[0;34m\u001b[0m\u001b[0;34m\u001b[0m\u001b[0m\n\u001b[0m\u001b[1;32m    672\u001b[0m     \u001b[0;32melse\u001b[0m\u001b[0;34m:\u001b[0m\u001b[0;34m\u001b[0m\u001b[0;34m\u001b[0m\u001b[0m\n\u001b[1;32m    673\u001b[0m       \u001b[0mself\u001b[0m\u001b[0;34m.\u001b[0m\u001b[0m_register_gradient\u001b[0m\u001b[0;34m(\u001b[0m\u001b[0;34m)\u001b[0m\u001b[0;34m\u001b[0m\u001b[0;34m\u001b[0m\u001b[0m\n",
      "\u001b[0;32m/Python3.7/lib/python3.6/site-packages/tensorflow/python/eager/function.py\u001b[0m in \u001b[0;36mcall\u001b[0;34m(self, ctx, args)\u001b[0m\n\u001b[1;32m    443\u001b[0m             attrs=(\"executor_type\", executor_type,\n\u001b[1;32m    444\u001b[0m                    \"config_proto\", config),\n\u001b[0;32m--> 445\u001b[0;31m             ctx=ctx)\n\u001b[0m\u001b[1;32m    446\u001b[0m       \u001b[0;31m# Replace empty list with None\u001b[0m\u001b[0;34m\u001b[0m\u001b[0;34m\u001b[0m\u001b[0;34m\u001b[0m\u001b[0m\n\u001b[1;32m    447\u001b[0m       \u001b[0moutputs\u001b[0m \u001b[0;34m=\u001b[0m \u001b[0moutputs\u001b[0m \u001b[0;32mor\u001b[0m \u001b[0;32mNone\u001b[0m\u001b[0;34m\u001b[0m\u001b[0;34m\u001b[0m\u001b[0m\n",
      "\u001b[0;32m/Python3.7/lib/python3.6/site-packages/tensorflow/python/eager/execute.py\u001b[0m in \u001b[0;36mquick_execute\u001b[0;34m(op_name, num_outputs, inputs, attrs, ctx, name)\u001b[0m\n\u001b[1;32m     65\u001b[0m     \u001b[0;32melse\u001b[0m\u001b[0;34m:\u001b[0m\u001b[0;34m\u001b[0m\u001b[0;34m\u001b[0m\u001b[0m\n\u001b[1;32m     66\u001b[0m       \u001b[0mmessage\u001b[0m \u001b[0;34m=\u001b[0m \u001b[0me\u001b[0m\u001b[0;34m.\u001b[0m\u001b[0mmessage\u001b[0m\u001b[0;34m\u001b[0m\u001b[0;34m\u001b[0m\u001b[0m\n\u001b[0;32m---> 67\u001b[0;31m     \u001b[0msix\u001b[0m\u001b[0;34m.\u001b[0m\u001b[0mraise_from\u001b[0m\u001b[0;34m(\u001b[0m\u001b[0mcore\u001b[0m\u001b[0;34m.\u001b[0m\u001b[0m_status_to_exception\u001b[0m\u001b[0;34m(\u001b[0m\u001b[0me\u001b[0m\u001b[0;34m.\u001b[0m\u001b[0mcode\u001b[0m\u001b[0;34m,\u001b[0m \u001b[0mmessage\u001b[0m\u001b[0;34m)\u001b[0m\u001b[0;34m,\u001b[0m \u001b[0;32mNone\u001b[0m\u001b[0;34m)\u001b[0m\u001b[0;34m\u001b[0m\u001b[0;34m\u001b[0m\u001b[0m\n\u001b[0m\u001b[1;32m     68\u001b[0m   \u001b[0;32mexcept\u001b[0m \u001b[0mTypeError\u001b[0m \u001b[0;32mas\u001b[0m \u001b[0me\u001b[0m\u001b[0;34m:\u001b[0m\u001b[0;34m\u001b[0m\u001b[0;34m\u001b[0m\u001b[0m\n\u001b[1;32m     69\u001b[0m     \u001b[0;32mif\u001b[0m \u001b[0many\u001b[0m\u001b[0;34m(\u001b[0m\u001b[0mops\u001b[0m\u001b[0;34m.\u001b[0m\u001b[0m_is_keras_symbolic_tensor\u001b[0m\u001b[0;34m(\u001b[0m\u001b[0mx\u001b[0m\u001b[0;34m)\u001b[0m \u001b[0;32mfor\u001b[0m \u001b[0mx\u001b[0m \u001b[0;32min\u001b[0m \u001b[0minputs\u001b[0m\u001b[0;34m)\u001b[0m\u001b[0;34m:\u001b[0m\u001b[0;34m\u001b[0m\u001b[0;34m\u001b[0m\u001b[0m\n",
      "\u001b[0;32m/Python3.7/lib/python3.6/site-packages/six.py\u001b[0m in \u001b[0;36mraise_from\u001b[0;34m(value, from_value)\u001b[0m\n",
      "\u001b[0;31mResourceExhaustedError\u001b[0m:  OOM when allocating tensor with shape[1000,400,128] and type float on /job:localhost/replica:0/task:0/device:CPU:0 by allocator cpu\n\t [[node embedding_3/embedding_lookup (defined at <ipython-input-162-d1dd546c27f1>:24) ]]\nHint: If you want to see a list of allocated tensors when OOM happens, add report_tensor_allocations_upon_oom to RunOptions for current allocation info.\n [Op:__inference_keras_scratch_graph_1835327]\n\nFunction call stack:\nkeras_scratch_graph\n"
     ]
    }
   ],
   "source": [
    "# 创建神经网络模型。\n",
    "network = models.Sequential()\n",
    "\n",
    "# 添加嵌入层。\n",
    "network.add(layers.Embedding(input_dim=number_of_features, output_dim=128))\n",
    "\n",
    "# 添加包含128个单元的GRU层。\n",
    "network.add(layers.GRU(units=128))\n",
    "\n",
    "# 添加使用sigmoid激活函数的全连接层。\n",
    "network.add(layers.Dense(units=1, activation=\"sigmoid\"))\n",
    "\n",
    "# 完成神经网络模型的配置。\n",
    "network.compile(loss=\"binary_crossentropy\", # 二元交叉熵\n",
    "                optimizer=\"Adam\", # Adam优化器\n",
    "                metrics=[\"accuracy\"]) # 准确率指标\n",
    "\n",
    "# 训练神经网络。\n",
    "history = network.fit(features_train, # 特征\n",
    "                      target_train, # 目标\n",
    "                      epochs=3, # 训练轮数\n",
    "                      verbose=0, # 不显示输出\n",
    "                      batch_size=1000, # 批量大小\n",
    "                      validation_data=(features_test, target_test)) # 测试数据"
   ]
  },
  {
   "cell_type": "code",
   "execution_count": null,
   "metadata": {},
   "outputs": [],
   "source": []
  }
 ],
 "metadata": {
  "accelerator": "GPU",
  "colab": {
   "name": "20.ipynb",
   "provenance": []
  },
  "kernelspec": {
   "display_name": "Python 3",
   "language": "python",
   "name": "python3"
  },
  "language_info": {
   "codemirror_mode": {
    "name": "ipython",
    "version": 3
   },
   "file_extension": ".py",
   "mimetype": "text/x-python",
   "name": "python",
   "nbconvert_exporter": "python",
   "pygments_lexer": "ipython3",
   "version": "3.6.8"
  }
 },
 "nbformat": 4,
 "nbformat_minor": 4
}
